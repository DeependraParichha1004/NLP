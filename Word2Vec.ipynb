{
  "nbformat": 4,
  "nbformat_minor": 0,
  "metadata": {
    "colab": {
      "name": "Word2Vec.ipynb",
      "provenance": [],
      "collapsed_sections": []
    },
    "kernelspec": {
      "name": "python3",
      "display_name": "Python 3"
    },
    "language_info": {
      "name": "python"
    }
  },
  "cells": [
    {
      "cell_type": "markdown",
      "source": [
        "Word2Vec\n"
      ],
      "metadata": {
        "id": "VB_WmP99z4v7"
      }
    },
    {
      "cell_type": "code",
      "source": [
        "import pandas as pd\n",
        "import numpy as np"
      ],
      "metadata": {
        "id": "AWFJBEb01-0-"
      },
      "execution_count": 1,
      "outputs": []
    },
    {
      "cell_type": "code",
      "source": [
        "word=dict()\n",
        "if word==None:\n",
        "  print(\"Hi\")"
      ],
      "metadata": {
        "id": "HPwa4Tfy16jw"
      },
      "execution_count": 2,
      "outputs": []
    },
    {
      "cell_type": "code",
      "source": [
        "def generate_dictionary(text):#text--list\n",
        "  corpus=[]\n",
        "  count=0\n",
        "  word_to_ids={}\n",
        "  ids_to_word={}\n",
        "  for row in text:\n",
        "    for word in row.split():\n",
        "      word=word.lower()\n",
        "      corpus.append(word)\n",
        "      if word_to_ids.get(word)==None:\n",
        "        word_to_ids.update({word:count})\n",
        "        ids_to_word.update({count:word})\n",
        "        count+=1\n",
        "  vocab_size=len(word_to_ids)\n",
        "  length_corpus=len(corpus)\n",
        "  return word_to_ids,ids_to_word,vocab_size,length_corpus,corpus"
      ],
      "metadata": {
        "id": "gkmCLD610Cuv"
      },
      "execution_count": 3,
      "outputs": []
    },
    {
      "cell_type": "code",
      "source": [
        "text = [\"machine learning engineers can build great data models\",\"the more data you have the better your model\",\"these predictions sound right, but it is all about your data\",\"your data can provide great value\"]\n",
        "word_to_ids,ids_to_word,vocab_size,length_corpus,corpus=generate_dictionary(text)"
      ],
      "metadata": {
        "id": "UX9BuiJs0Dc2"
      },
      "execution_count": 4,
      "outputs": []
    },
    {
      "cell_type": "code",
      "source": [
        "vocab_size"
      ],
      "metadata": {
        "colab": {
          "base_uri": "https://localhost:8080/"
        },
        "id": "mVO68yis7_v_",
        "outputId": "64b8c522-8b2b-4a89-ca01-0339c41ffc98"
      },
      "execution_count": 5,
      "outputs": [
        {
          "output_type": "execute_result",
          "data": {
            "text/plain": [
              "26"
            ]
          },
          "metadata": {},
          "execution_count": 5
        }
      ]
    },
    {
      "cell_type": "code",
      "source": [
        "def generate_one_hot_code(trg_word,cxt_words,vocab_size,word_to_ids):\n",
        "  target_word_vector=np.zeros(vocab_size)\n",
        "  index_target_word=word_to_ids.get(trg_word)\n",
        "  target_word_vector[index_target_word]=1\n",
        "  contxt_word_vector=np.zeros(vocab_size)\n",
        "\n",
        "  for contxt_word in cxt_words:\n",
        "    index_contxt_word=word_to_ids.get(contxt_word)\n",
        "    contxt_word_vector[index_contxt_word]=1\n",
        "\n",
        "  return target_word_vector,contxt_word_vector"
      ],
      "metadata": {
        "id": "MBtlSaiY3WlN"
      },
      "execution_count": 6,
      "outputs": []
    },
    {
      "cell_type": "code",
      "source": [
        "for i in range(4,1,-1):\n",
        "  print(i)"
      ],
      "metadata": {
        "colab": {
          "base_uri": "https://localhost:8080/"
        },
        "id": "CsjgjfFsIWvR",
        "outputId": "c311d1cd-3df5-4a77-e8a6-178c9c571562"
      },
      "execution_count": 7,
      "outputs": [
        {
          "output_type": "stream",
          "name": "stdout",
          "text": [
            "4\n",
            "3\n",
            "2\n"
          ]
        }
      ]
    },
    {
      "cell_type": "code",
      "source": [
        "def generate_training_data(window_size,vocab_size,word_to_ids,length_corpus,corpus,sample=None):\n",
        "  training_data = []\n",
        "  training_sample_words = []\n",
        "  target_words_vector=[]\n",
        "  for i,word in enumerate(corpus):\n",
        "    target_word=word\n",
        "    contxt_words=[]\n",
        "    if i==0:#starting position\n",
        "      contxt_words=[corpus[x] for x in range(i+1,window_size+1)]\n",
        "    elif i==length_corpus-1:\n",
        "      contxt_words=[corpus[x] for x in range(length_corpus-2,length_corpus-2-window_size,-1)]\n",
        "    else:\n",
        "      before_target_word=i-1\n",
        "      for x in range(before_target_word,before_target_word-window_size,-1):\n",
        "        if(x>=0):\n",
        "          contxt_words.extend([corpus[x]])\n",
        "\n",
        "      after_target_word=i+1\n",
        "      for x in range(after_target_word,after_target_word+window_size):\n",
        "        if(x<len(corpus)):\n",
        "          contxt_words.extend([corpus[x]])\n",
        "\n",
        "    target_word_vector,contxt_word_vector=generate_one_hot_code(target_word,contxt_words,vocab_size,word_to_ids)\n",
        "    training_data.append([target_word_vector, contxt_word_vector])\n",
        "    target_words_vector.append(target_word_vector)\n",
        "    if sample is not None:\n",
        "      training_sample_words.append([target_word, contxt_words])\n",
        "  return target_words_vector,training_data, training_sample_words\n",
        "      "
      ],
      "metadata": {
        "id": "fhislMwW6bNi"
      },
      "execution_count": 21,
      "outputs": []
    },
    {
      "cell_type": "code",
      "source": [
        "target_words_vector,training_data,training_samples=generate_training_data(2,vocab_size,word_to_ids,length_corpus,corpus,sample=None)"
      ],
      "metadata": {
        "id": "C2AkX9uKMOXa"
      },
      "execution_count": 22,
      "outputs": []
    },
    {
      "cell_type": "code",
      "source": [
        "training_data"
      ],
      "metadata": {
        "colab": {
          "base_uri": "https://localhost:8080/"
        },
        "id": "mbmpIWpoMiVu",
        "outputId": "60af07d4-6d43-44be-8d15-6ccf6c73c454"
      },
      "execution_count": 23,
      "outputs": [
        {
          "output_type": "execute_result",
          "data": {
            "text/plain": [
              "[[array([1., 0., 0., 0., 0., 0., 0., 0., 0., 0., 0., 0., 0., 0., 0., 0., 0.,\n",
              "         0., 0., 0., 0., 0., 0., 0., 0., 0.]),\n",
              "  array([0., 1., 1., 0., 0., 0., 0., 0., 0., 0., 0., 0., 0., 0., 0., 0., 0.,\n",
              "         0., 0., 0., 0., 0., 0., 0., 0., 0.])],\n",
              " [array([0., 1., 0., 0., 0., 0., 0., 0., 0., 0., 0., 0., 0., 0., 0., 0., 0.,\n",
              "         0., 0., 0., 0., 0., 0., 0., 0., 0.]),\n",
              "  array([1., 0., 1., 1., 0., 0., 0., 0., 0., 0., 0., 0., 0., 0., 0., 0., 0.,\n",
              "         0., 0., 0., 0., 0., 0., 0., 0., 0.])],\n",
              " [array([0., 0., 1., 0., 0., 0., 0., 0., 0., 0., 0., 0., 0., 0., 0., 0., 0.,\n",
              "         0., 0., 0., 0., 0., 0., 0., 0., 0.]),\n",
              "  array([1., 1., 0., 1., 1., 0., 0., 0., 0., 0., 0., 0., 0., 0., 0., 0., 0.,\n",
              "         0., 0., 0., 0., 0., 0., 0., 0., 0.])],\n",
              " [array([0., 0., 0., 1., 0., 0., 0., 0., 0., 0., 0., 0., 0., 0., 0., 0., 0.,\n",
              "         0., 0., 0., 0., 0., 0., 0., 0., 0.]),\n",
              "  array([0., 1., 1., 0., 1., 1., 0., 0., 0., 0., 0., 0., 0., 0., 0., 0., 0.,\n",
              "         0., 0., 0., 0., 0., 0., 0., 0., 0.])],\n",
              " [array([0., 0., 0., 0., 1., 0., 0., 0., 0., 0., 0., 0., 0., 0., 0., 0., 0.,\n",
              "         0., 0., 0., 0., 0., 0., 0., 0., 0.]),\n",
              "  array([0., 0., 1., 1., 0., 1., 1., 0., 0., 0., 0., 0., 0., 0., 0., 0., 0.,\n",
              "         0., 0., 0., 0., 0., 0., 0., 0., 0.])],\n",
              " [array([0., 0., 0., 0., 0., 1., 0., 0., 0., 0., 0., 0., 0., 0., 0., 0., 0.,\n",
              "         0., 0., 0., 0., 0., 0., 0., 0., 0.]),\n",
              "  array([0., 0., 0., 1., 1., 0., 1., 1., 0., 0., 0., 0., 0., 0., 0., 0., 0.,\n",
              "         0., 0., 0., 0., 0., 0., 0., 0., 0.])],\n",
              " [array([0., 0., 0., 0., 0., 0., 1., 0., 0., 0., 0., 0., 0., 0., 0., 0., 0.,\n",
              "         0., 0., 0., 0., 0., 0., 0., 0., 0.]),\n",
              "  array([0., 0., 0., 0., 1., 1., 0., 1., 1., 0., 0., 0., 0., 0., 0., 0., 0.,\n",
              "         0., 0., 0., 0., 0., 0., 0., 0., 0.])],\n",
              " [array([0., 0., 0., 0., 0., 0., 0., 1., 0., 0., 0., 0., 0., 0., 0., 0., 0.,\n",
              "         0., 0., 0., 0., 0., 0., 0., 0., 0.]),\n",
              "  array([0., 0., 0., 0., 0., 1., 1., 0., 1., 1., 0., 0., 0., 0., 0., 0., 0.,\n",
              "         0., 0., 0., 0., 0., 0., 0., 0., 0.])],\n",
              " [array([0., 0., 0., 0., 0., 0., 0., 0., 1., 0., 0., 0., 0., 0., 0., 0., 0.,\n",
              "         0., 0., 0., 0., 0., 0., 0., 0., 0.]),\n",
              "  array([0., 0., 0., 0., 0., 0., 1., 1., 0., 1., 0., 0., 0., 0., 0., 0., 0.,\n",
              "         0., 0., 0., 0., 0., 0., 0., 0., 0.])],\n",
              " [array([0., 0., 0., 0., 0., 0., 0., 0., 0., 1., 0., 0., 0., 0., 0., 0., 0.,\n",
              "         0., 0., 0., 0., 0., 0., 0., 0., 0.]),\n",
              "  array([0., 0., 0., 0., 0., 0., 1., 1., 1., 0., 1., 0., 0., 0., 0., 0., 0.,\n",
              "         0., 0., 0., 0., 0., 0., 0., 0., 0.])],\n",
              " [array([0., 0., 0., 0., 0., 0., 1., 0., 0., 0., 0., 0., 0., 0., 0., 0., 0.,\n",
              "         0., 0., 0., 0., 0., 0., 0., 0., 0.]),\n",
              "  array([0., 0., 0., 0., 0., 0., 0., 0., 1., 1., 1., 1., 0., 0., 0., 0., 0.,\n",
              "         0., 0., 0., 0., 0., 0., 0., 0., 0.])],\n",
              " [array([0., 0., 0., 0., 0., 0., 0., 0., 0., 0., 1., 0., 0., 0., 0., 0., 0.,\n",
              "         0., 0., 0., 0., 0., 0., 0., 0., 0.]),\n",
              "  array([0., 0., 0., 0., 0., 0., 1., 0., 1., 1., 0., 1., 0., 0., 0., 0., 0.,\n",
              "         0., 0., 0., 0., 0., 0., 0., 0., 0.])],\n",
              " [array([0., 0., 0., 0., 0., 0., 0., 0., 0., 0., 0., 1., 0., 0., 0., 0., 0.,\n",
              "         0., 0., 0., 0., 0., 0., 0., 0., 0.]),\n",
              "  array([0., 0., 0., 0., 0., 0., 1., 0., 1., 0., 1., 0., 1., 0., 0., 0., 0.,\n",
              "         0., 0., 0., 0., 0., 0., 0., 0., 0.])],\n",
              " [array([0., 0., 0., 0., 0., 0., 0., 0., 1., 0., 0., 0., 0., 0., 0., 0., 0.,\n",
              "         0., 0., 0., 0., 0., 0., 0., 0., 0.]),\n",
              "  array([0., 0., 0., 0., 0., 0., 0., 0., 0., 0., 1., 1., 1., 1., 0., 0., 0.,\n",
              "         0., 0., 0., 0., 0., 0., 0., 0., 0.])],\n",
              " [array([0., 0., 0., 0., 0., 0., 0., 0., 0., 0., 0., 0., 1., 0., 0., 0., 0.,\n",
              "         0., 0., 0., 0., 0., 0., 0., 0., 0.]),\n",
              "  array([0., 0., 0., 0., 0., 0., 0., 0., 1., 0., 0., 1., 0., 1., 1., 0., 0.,\n",
              "         0., 0., 0., 0., 0., 0., 0., 0., 0.])],\n",
              " [array([0., 0., 0., 0., 0., 0., 0., 0., 0., 0., 0., 0., 0., 1., 0., 0., 0.,\n",
              "         0., 0., 0., 0., 0., 0., 0., 0., 0.]),\n",
              "  array([0., 0., 0., 0., 0., 0., 0., 0., 1., 0., 0., 0., 1., 0., 1., 1., 0.,\n",
              "         0., 0., 0., 0., 0., 0., 0., 0., 0.])],\n",
              " [array([0., 0., 0., 0., 0., 0., 0., 0., 0., 0., 0., 0., 0., 0., 1., 0., 0.,\n",
              "         0., 0., 0., 0., 0., 0., 0., 0., 0.]),\n",
              "  array([0., 0., 0., 0., 0., 0., 0., 0., 0., 0., 0., 0., 1., 1., 0., 1., 1.,\n",
              "         0., 0., 0., 0., 0., 0., 0., 0., 0.])],\n",
              " [array([0., 0., 0., 0., 0., 0., 0., 0., 0., 0., 0., 0., 0., 0., 0., 1., 0.,\n",
              "         0., 0., 0., 0., 0., 0., 0., 0., 0.]),\n",
              "  array([0., 0., 0., 0., 0., 0., 0., 0., 0., 0., 0., 0., 0., 1., 1., 0., 1.,\n",
              "         1., 0., 0., 0., 0., 0., 0., 0., 0.])],\n",
              " [array([0., 0., 0., 0., 0., 0., 0., 0., 0., 0., 0., 0., 0., 0., 0., 0., 1.,\n",
              "         0., 0., 0., 0., 0., 0., 0., 0., 0.]),\n",
              "  array([0., 0., 0., 0., 0., 0., 0., 0., 0., 0., 0., 0., 0., 0., 1., 1., 0.,\n",
              "         1., 1., 0., 0., 0., 0., 0., 0., 0.])],\n",
              " [array([0., 0., 0., 0., 0., 0., 0., 0., 0., 0., 0., 0., 0., 0., 0., 0., 0.,\n",
              "         1., 0., 0., 0., 0., 0., 0., 0., 0.]),\n",
              "  array([0., 0., 0., 0., 0., 0., 0., 0., 0., 0., 0., 0., 0., 0., 0., 1., 1.,\n",
              "         0., 1., 1., 0., 0., 0., 0., 0., 0.])],\n",
              " [array([0., 0., 0., 0., 0., 0., 0., 0., 0., 0., 0., 0., 0., 0., 0., 0., 0.,\n",
              "         0., 1., 0., 0., 0., 0., 0., 0., 0.]),\n",
              "  array([0., 0., 0., 0., 0., 0., 0., 0., 0., 0., 0., 0., 0., 0., 0., 0., 1.,\n",
              "         1., 0., 1., 1., 0., 0., 0., 0., 0.])],\n",
              " [array([0., 0., 0., 0., 0., 0., 0., 0., 0., 0., 0., 0., 0., 0., 0., 0., 0.,\n",
              "         0., 0., 1., 0., 0., 0., 0., 0., 0.]),\n",
              "  array([0., 0., 0., 0., 0., 0., 0., 0., 0., 0., 0., 0., 0., 0., 0., 0., 0.,\n",
              "         1., 1., 0., 1., 1., 0., 0., 0., 0.])],\n",
              " [array([0., 0., 0., 0., 0., 0., 0., 0., 0., 0., 0., 0., 0., 0., 0., 0., 0.,\n",
              "         0., 0., 0., 1., 0., 0., 0., 0., 0.]),\n",
              "  array([0., 0., 0., 0., 0., 0., 0., 0., 0., 0., 0., 0., 0., 0., 0., 0., 0.,\n",
              "         0., 1., 1., 0., 1., 1., 0., 0., 0.])],\n",
              " [array([0., 0., 0., 0., 0., 0., 0., 0., 0., 0., 0., 0., 0., 0., 0., 0., 0.,\n",
              "         0., 0., 0., 0., 1., 0., 0., 0., 0.]),\n",
              "  array([0., 0., 0., 0., 0., 0., 0., 0., 0., 0., 0., 0., 0., 0., 0., 0., 0.,\n",
              "         0., 0., 1., 1., 0., 1., 1., 0., 0.])],\n",
              " [array([0., 0., 0., 0., 0., 0., 0., 0., 0., 0., 0., 0., 0., 0., 0., 0., 0.,\n",
              "         0., 0., 0., 0., 0., 1., 0., 0., 0.]),\n",
              "  array([0., 0., 0., 0., 0., 0., 0., 0., 0., 0., 0., 0., 0., 1., 0., 0., 0.,\n",
              "         0., 0., 0., 1., 1., 0., 1., 0., 0.])],\n",
              " [array([0., 0., 0., 0., 0., 0., 0., 0., 0., 0., 0., 0., 0., 0., 0., 0., 0.,\n",
              "         0., 0., 0., 0., 0., 0., 1., 0., 0.]),\n",
              "  array([0., 0., 0., 0., 0., 0., 1., 0., 0., 0., 0., 0., 0., 1., 0., 0., 0.,\n",
              "         0., 0., 0., 0., 1., 1., 0., 0., 0.])],\n",
              " [array([0., 0., 0., 0., 0., 0., 0., 0., 0., 0., 0., 0., 0., 1., 0., 0., 0.,\n",
              "         0., 0., 0., 0., 0., 0., 0., 0., 0.]),\n",
              "  array([0., 0., 0., 0., 0., 0., 1., 0., 0., 0., 0., 0., 0., 1., 0., 0., 0.,\n",
              "         0., 0., 0., 0., 0., 1., 1., 0., 0.])],\n",
              " [array([0., 0., 0., 0., 0., 0., 1., 0., 0., 0., 0., 0., 0., 0., 0., 0., 0.,\n",
              "         0., 0., 0., 0., 0., 0., 0., 0., 0.]),\n",
              "  array([0., 0., 0., 0., 0., 0., 1., 0., 0., 0., 0., 0., 0., 1., 0., 0., 0.,\n",
              "         0., 0., 0., 0., 0., 0., 1., 0., 0.])],\n",
              " [array([0., 0., 0., 0., 0., 0., 0., 0., 0., 0., 0., 0., 0., 1., 0., 0., 0.,\n",
              "         0., 0., 0., 0., 0., 0., 0., 0., 0.]),\n",
              "  array([0., 0., 0., 1., 0., 0., 1., 0., 0., 0., 0., 0., 0., 1., 0., 0., 0.,\n",
              "         0., 0., 0., 0., 0., 0., 0., 0., 0.])],\n",
              " [array([0., 0., 0., 0., 0., 0., 1., 0., 0., 0., 0., 0., 0., 0., 0., 0., 0.,\n",
              "         0., 0., 0., 0., 0., 0., 0., 0., 0.]),\n",
              "  array([0., 0., 0., 1., 0., 0., 1., 0., 0., 0., 0., 0., 0., 1., 0., 0., 0.,\n",
              "         0., 0., 0., 0., 0., 0., 0., 1., 0.])],\n",
              " [array([0., 0., 0., 1., 0., 0., 0., 0., 0., 0., 0., 0., 0., 0., 0., 0., 0.,\n",
              "         0., 0., 0., 0., 0., 0., 0., 0., 0.]),\n",
              "  array([0., 0., 0., 0., 0., 1., 1., 0., 0., 0., 0., 0., 0., 1., 0., 0., 0.,\n",
              "         0., 0., 0., 0., 0., 0., 0., 1., 0.])],\n",
              " [array([0., 0., 0., 0., 0., 0., 0., 0., 0., 0., 0., 0., 0., 0., 0., 0., 0.,\n",
              "         0., 0., 0., 0., 0., 0., 0., 1., 0.]),\n",
              "  array([0., 0., 0., 1., 0., 1., 1., 0., 0., 0., 0., 0., 0., 0., 0., 0., 0.,\n",
              "         0., 0., 0., 0., 0., 0., 0., 0., 1.])],\n",
              " [array([0., 0., 0., 0., 0., 1., 0., 0., 0., 0., 0., 0., 0., 0., 0., 0., 0.,\n",
              "         0., 0., 0., 0., 0., 0., 0., 0., 0.]),\n",
              "  array([0., 0., 0., 1., 0., 0., 0., 0., 0., 0., 0., 0., 0., 0., 0., 0., 0.,\n",
              "         0., 0., 0., 0., 0., 0., 0., 1., 1.])],\n",
              " [array([0., 0., 0., 0., 0., 0., 0., 0., 0., 0., 0., 0., 0., 0., 0., 0., 0.,\n",
              "         0., 0., 0., 0., 0., 0., 0., 0., 1.]),\n",
              "  array([0., 0., 0., 0., 0., 1., 0., 0., 0., 0., 0., 0., 0., 0., 0., 0., 0.,\n",
              "         0., 0., 0., 0., 0., 0., 0., 1., 0.])]]"
            ]
          },
          "metadata": {},
          "execution_count": 23
        }
      ]
    },
    {
      "cell_type": "code",
      "source": [
        "training_samples"
      ],
      "metadata": {
        "colab": {
          "base_uri": "https://localhost:8080/"
        },
        "id": "UWb-gIQWMjo3",
        "outputId": "726607bf-80b5-471c-b099-e4542c614eec"
      },
      "execution_count": 24,
      "outputs": [
        {
          "output_type": "execute_result",
          "data": {
            "text/plain": [
              "[]"
            ]
          },
          "metadata": {},
          "execution_count": 24
        }
      ]
    },
    {
      "cell_type": "code",
      "source": [
        "weights_input_hidden = np.random.uniform(-1, 1, (26, 5))\n",
        "weights_input_hidden"
      ],
      "metadata": {
        "colab": {
          "base_uri": "https://localhost:8080/"
        },
        "id": "dJF6FWcFhNjv",
        "outputId": "19cd46f4-6559-48a2-9150-df2b648626aa"
      },
      "execution_count": 25,
      "outputs": [
        {
          "output_type": "execute_result",
          "data": {
            "text/plain": [
              "array([[ 9.04582822e-01,  6.17377397e-01,  3.45007832e-01,\n",
              "        -8.59126107e-01,  1.62583972e-01],\n",
              "       [-8.63352563e-01, -8.60382402e-01,  9.77426885e-01,\n",
              "         6.32189829e-01,  2.55972916e-01],\n",
              "       [-7.80190943e-01,  5.35097053e-02, -6.12728450e-01,\n",
              "        -6.90928341e-02,  4.75012187e-01],\n",
              "       [ 6.91713356e-01, -9.22624891e-01,  6.58595856e-01,\n",
              "         9.69762865e-03,  3.88461929e-01],\n",
              "       [ 9.10208119e-01, -1.16667317e-01, -8.47284808e-01,\n",
              "         6.17604306e-01, -4.79710423e-01],\n",
              "       [-6.03176303e-01,  2.71322807e-01, -1.05378368e-01,\n",
              "        -9.60968497e-01, -2.37223173e-01],\n",
              "       [-2.74084209e-02, -1.54464379e-01, -8.52786083e-01,\n",
              "        -9.72672146e-01,  2.57319907e-01],\n",
              "       [-3.59755405e-01,  3.62854620e-01,  3.63813047e-04,\n",
              "         2.88155683e-01,  8.20730660e-01],\n",
              "       [ 4.91406327e-01,  7.20489882e-01,  1.21932070e-01,\n",
              "        -5.75503187e-01,  5.51953441e-02],\n",
              "       [ 8.81208616e-01,  2.31047429e-02,  2.79688195e-01,\n",
              "        -5.90316004e-01, -8.65493910e-01],\n",
              "       [ 3.77202477e-01,  1.76164040e-01, -4.48360019e-01,\n",
              "         1.73409367e-01,  7.86961824e-01],\n",
              "       [-1.17139899e-01, -9.84549274e-01, -1.02556381e-02,\n",
              "        -3.63892760e-01, -9.00679094e-01],\n",
              "       [ 6.75869644e-01, -5.37478553e-01, -2.34744929e-01,\n",
              "        -5.57757568e-01,  5.50608908e-01],\n",
              "       [ 8.59418122e-01,  1.17180127e-01, -6.56721983e-01,\n",
              "         8.43430596e-01, -2.17744452e-01],\n",
              "       [ 1.69341831e-01, -3.79725980e-01, -5.64690687e-01,\n",
              "        -5.77327930e-01, -4.31044632e-01],\n",
              "       [ 7.50169802e-01,  7.43869952e-01,  2.38950158e-01,\n",
              "         1.18372402e-01,  6.84475095e-01],\n",
              "       [ 6.53443513e-01, -3.85715134e-01,  2.66503506e-01,\n",
              "         3.98332819e-01,  8.10110380e-01],\n",
              "       [ 1.76867758e-01,  2.26302028e-01,  3.00213231e-01,\n",
              "        -4.91679080e-01, -4.53946307e-01],\n",
              "       [ 6.48257339e-01, -6.59912892e-01,  6.21661489e-01,\n",
              "        -5.74354523e-01, -1.46954132e-01],\n",
              "       [-3.62592230e-01,  3.42421245e-01,  9.34055119e-01,\n",
              "         8.85125690e-01, -7.18599907e-01],\n",
              "       [-3.07657380e-01, -9.82560229e-01,  2.09956351e-01,\n",
              "         7.29356169e-02, -4.79150922e-01],\n",
              "       [-6.56705123e-02, -7.84354827e-02, -8.68198513e-01,\n",
              "        -9.01612827e-01,  8.58200973e-01],\n",
              "       [ 9.10871316e-01, -5.79125444e-01, -5.23018462e-01,\n",
              "         4.28014924e-01, -4.18101574e-01],\n",
              "       [ 6.76456358e-01, -5.19423790e-01,  7.78969627e-01,\n",
              "         7.13507707e-01,  4.79341660e-01],\n",
              "       [-2.71159076e-01,  7.76228099e-01, -6.16547090e-01,\n",
              "         3.78023394e-01,  4.78052311e-01],\n",
              "       [ 1.28692303e-01,  1.51703007e-01,  9.54034926e-01,\n",
              "        -1.78782730e-01,  8.75893964e-01]])"
            ]
          },
          "metadata": {},
          "execution_count": 25
        }
      ]
    },
    {
      "cell_type": "code",
      "source": [
        "def softmax(x):\n",
        "  exp=np.exp(x-np.max(x))\n",
        "  return exp/exp.sum(axis=0)"
      ],
      "metadata": {
        "id": "Am9XZT9Wivef"
      },
      "execution_count": 26,
      "outputs": []
    },
    {
      "cell_type": "code",
      "source": [
        "def forward_prop(weight_inp_hidden,weight_out_hidden,target_word_vector):\n",
        "  hidden_layer=np.dot(target_word_vector,weight_inp_hidden)\n",
        "\n",
        "  u=np.dot(hidden_layer,weight_out_hidden)\n",
        "\n",
        "  y_pred=softmax(u)\n",
        "\n",
        "  return y_pred,hidden_layer,u\n",
        "\n"
      ],
      "metadata": {
        "id": "bXLF4lZdMlu_"
      },
      "execution_count": 27,
      "outputs": []
    },
    {
      "cell_type": "markdown",
      "source": [
        "![word2vec_backwardpropogation.PNG](data:image/png;base64,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)"
      ],
      "metadata": {
        "id": "eBCY9IXEnPhH"
      }
    },
    {
      "cell_type": "code",
      "source": [
        "def backward_prop(weight_inp_hidden,hidden_layer,weight_out_hidden,total_error,target_word_vector,learning_rate):\n",
        "  d_weight_inp_hidden=np.outer(target_word_vector,np.dot(weight_out_hidden,total_error.T))\n",
        "  d_weight_out_hidden=np.outer(hidden_layer,total_error)\n",
        "\n",
        "  weight_inp_hidden=weight_inp_hidden-(learning_rate*d_weight_inp_hidden)\n",
        "  weight_out_hidden=weight_out_hidden-(learning_rate*d_weight_out_hidden)\n",
        "\n",
        "  return weight_inp_hidden,weight_out_hidden"
      ],
      "metadata": {
        "id": "m_FC6Wpfk95L"
      },
      "execution_count": 42,
      "outputs": []
    },
    {
      "cell_type": "code",
      "source": [
        "def calculate_error(y_pred,cxt_words):\n",
        "  total_error=[None]*len(y_pred)\n",
        "  index_1_in_cxt_word={}\n",
        "  for index in np.where(cxt_words==1)[0]:\n",
        "    index_1_in_cxt_word.update({index:'yes'})\n",
        "  num_1_in_cxt_word=len(index_1_in_cxt_word)  \n",
        "  for index,value in enumerate(y_pred):\n",
        "    if index_1_in_cxt_word.get(index)!=None:\n",
        "      total_error[index]=(value-1)+((num_1_in_cxt_word-1)*value)\n",
        "    else:\n",
        "      total_error[index]=(value*num_1_in_cxt_word)\n",
        "  return np.array(total_error)"
      ],
      "metadata": {
        "id": "oUO_gnWHoRmX"
      },
      "execution_count": 43,
      "outputs": []
    },
    {
      "cell_type": "code",
      "source": [
        "def train(word_embedding_dimension, window_size, epochs, training_data, learning_rate):\n",
        "    weights_input_hidden = np.random.uniform(-1, 1, (26, 5))\n",
        "    weights_hidden_output = np.random.uniform(-1, 1, (5, 26))\n",
        "\n",
        "    \n",
        "    weights_1 = []\n",
        "    weights_2 = []\n",
        "\n",
        "    for epoch in range(epochs):\n",
        "        loss = 0\n",
        "\n",
        "        for target, context in training_data:\n",
        "            y_pred, hidden_layer, u = forward_prop(weights_input_hidden, weights_hidden_output, target)\n",
        "\n",
        "            total_error = calculate_error(y_pred, context)\n",
        "\n",
        "            weights_input_hidden, weights_hidden_output = backward_prop(\n",
        "                weights_input_hidden, hidden_layer,weights_hidden_output, total_error, target, learning_rate\n",
        "            )\n",
        "\n",
        "            \n",
        "\n",
        "        \n",
        "        weights_1.append(weights_input_hidden)\n",
        "        weights_2.append(weights_hidden_output)\n",
        "\n",
        "\n",
        "    return np.array(weights_1), np.array(weights_2)"
      ],
      "metadata": {
        "id": "MbMsYRbnsvDV"
      },
      "execution_count": 44,
      "outputs": []
    },
    {
      "cell_type": "code",
      "source": [
        "w1,w2=train(5,5,100,training_data,0.01)"
      ],
      "metadata": {
        "id": "R0KiHUuys3sp"
      },
      "execution_count": 45,
      "outputs": []
    },
    {
      "cell_type": "code",
      "source": [
        "w1[word_to_ids['machine']]"
      ],
      "metadata": {
        "colab": {
          "base_uri": "https://localhost:8080/"
        },
        "id": "03k7HQt1tUD9",
        "outputId": "77cdd5b2-a7f9-47ca-87e9-d8750b379776"
      },
      "execution_count": 51,
      "outputs": [
        {
          "output_type": "execute_result",
          "data": {
            "text/plain": [
              "array([[ 9.69926060e-01, -3.45649371e-01,  4.77518091e-01,\n",
              "         2.15565230e-01, -1.06081921e-01],\n",
              "       [ 3.67636314e-01,  2.92511090e-01,  5.66459445e-01,\n",
              "         6.58026271e-02,  2.85399455e-01],\n",
              "       [-3.06186927e-01, -9.12256595e-01,  1.67561995e-01,\n",
              "         2.81571441e-01, -6.86726902e-01],\n",
              "       [ 8.76142246e-01,  4.72030576e-01, -7.37007804e-01,\n",
              "        -7.40890458e-01, -1.66810958e-01],\n",
              "       [ 9.20906385e-01,  7.42444731e-01,  7.81059321e-01,\n",
              "         8.23669966e-01, -3.27169561e-01],\n",
              "       [-9.36929440e-01, -5.59872018e-01,  6.08560792e-01,\n",
              "        -7.55264706e-01, -5.81124714e-01],\n",
              "       [ 9.52273199e-01,  2.80571988e-03,  2.77538531e-01,\n",
              "         3.65358530e-01, -7.26845502e-01],\n",
              "       [-4.58322135e-01, -8.04811120e-02,  2.93067612e-01,\n",
              "         9.12422690e-01,  6.70845184e-01],\n",
              "       [-7.17428168e-01, -8.80242113e-01,  5.49469013e-01,\n",
              "         4.47104389e-01,  8.21960512e-01],\n",
              "       [-7.35755625e-01,  3.12190707e-01, -7.49696767e-01,\n",
              "        -6.62632365e-01,  5.50316566e-01],\n",
              "       [-9.55734805e-01, -4.66980661e-01, -7.47038789e-01,\n",
              "        -3.72213269e-01,  9.89755878e-01],\n",
              "       [ 6.40245971e-01,  1.47254789e-01,  7.57285980e-01,\n",
              "         9.23885692e-01,  8.31606159e-01],\n",
              "       [-8.87610563e-01,  7.68975613e-01,  7.98979518e-01,\n",
              "        -4.31502484e-01,  1.00947490e-02],\n",
              "       [-2.61023168e-01, -6.16449847e-01,  3.07870480e-01,\n",
              "         5.39837305e-01, -1.37629892e-01],\n",
              "       [-3.09815952e-01, -8.93152166e-01,  7.25798222e-01,\n",
              "         2.73414203e-01, -1.95509228e-01],\n",
              "       [ 1.87811536e-01, -6.15859744e-01,  6.37498570e-01,\n",
              "         1.89488323e-01,  8.48637571e-01],\n",
              "       [ 2.20427314e-01,  7.88549866e-01,  4.71549363e-01,\n",
              "        -1.92506764e-02,  4.48032068e-01],\n",
              "       [ 2.30784032e-01, -5.11045498e-01,  8.45133751e-01,\n",
              "        -6.04758188e-01,  8.47090588e-01],\n",
              "       [-6.77286568e-01, -6.57587850e-04,  7.67266787e-01,\n",
              "         4.41734599e-01,  8.22163924e-01],\n",
              "       [ 8.58497736e-01, -5.40237415e-01, -8.12701786e-01,\n",
              "        -6.94780549e-01, -8.44029317e-02],\n",
              "       [-1.44279510e-01,  3.00407567e-01,  5.28974502e-01,\n",
              "         2.12416205e-01,  2.07869754e-01],\n",
              "       [ 8.11587010e-01, -5.55400399e-01, -2.02086061e-01,\n",
              "        -7.54390771e-01, -6.99477774e-01],\n",
              "       [ 4.41727891e-01,  8.07429787e-01, -1.98396343e-01,\n",
              "        -5.98623807e-02, -7.91443005e-01],\n",
              "       [ 4.79517616e-01,  7.38225932e-01,  3.07163384e-01,\n",
              "         1.99050440e-01,  4.77101782e-01],\n",
              "       [-9.89246135e-01,  5.94089112e-01,  7.07270774e-01,\n",
              "         2.12080609e-01,  1.19371439e-01],\n",
              "       [-8.07028249e-01, -3.39444269e-01, -5.96122545e-01,\n",
              "         2.13818135e-01, -4.75044396e-01]])"
            ]
          },
          "metadata": {},
          "execution_count": 51
        }
      ]
    },
    {
      "cell_type": "code",
      "source": [
        "w1[word_to_ids['learning']]"
      ],
      "metadata": {
        "colab": {
          "base_uri": "https://localhost:8080/"
        },
        "id": "85G8OZTa8TXM",
        "outputId": "0a487122-b1a8-4c61-b4a0-0ef764aed67d"
      },
      "execution_count": 52,
      "outputs": [
        {
          "output_type": "execute_result",
          "data": {
            "text/plain": [
              "array([[ 0.9686706 , -0.356059  ,  0.46363658,  0.23191054, -0.11651558],\n",
              "       [ 0.36534458,  0.28980205,  0.57013134,  0.07528017,  0.27429796],\n",
              "       [-0.31062377, -0.89901113,  0.17320335,  0.27730156, -0.68767421],\n",
              "       [ 0.83120148,  0.44944706, -0.72412549, -0.71616833, -0.16982448],\n",
              "       [ 0.89875347,  0.74303177,  0.7826308 ,  0.83430405, -0.32373826],\n",
              "       [-0.94492926, -0.53826998,  0.61240562, -0.74123635, -0.56163963],\n",
              "       [ 0.93587132,  0.03427697,  0.28401189,  0.3414968 , -0.68647875],\n",
              "       [-0.45320862, -0.06116928,  0.29802162,  0.89611622,  0.66342202],\n",
              "       [-0.6853464 , -0.87360942,  0.54940325,  0.43032695,  0.82475945],\n",
              "       [-0.71898564,  0.31733848, -0.72706222, -0.66637757,  0.54650707],\n",
              "       [-0.93687983, -0.4590249 , -0.72059576, -0.38247079,  0.99243272],\n",
              "       [ 0.64188196,  0.15459474,  0.76022804,  0.91778441,  0.82698811],\n",
              "       [-0.84733349,  0.76867396,  0.7711437 , -0.4447616 ,  0.0270635 ],\n",
              "       [-0.25190683, -0.58490401,  0.31304034,  0.51243652, -0.11319442],\n",
              "       [-0.30008527, -0.88747725,  0.73049206,  0.2662481 , -0.18963307],\n",
              "       [ 0.20242284, -0.59803145,  0.61841348,  0.17590227,  0.83666737],\n",
              "       [ 0.22315736,  0.7871477 ,  0.45310651, -0.02168195,  0.44402317],\n",
              "       [ 0.22670748, -0.49658153,  0.82471125, -0.6048672 ,  0.82952444],\n",
              "       [-0.67122503, -0.00411884,  0.74904498,  0.43970731,  0.80835074],\n",
              "       [ 0.82744777, -0.54484894, -0.81687594, -0.6751038 , -0.10309081],\n",
              "       [-0.1576019 ,  0.29611868,  0.49598427,  0.22186216,  0.19712765],\n",
              "       [ 0.78683696, -0.56263832, -0.2094089 , -0.74528889, -0.69459807],\n",
              "       [ 0.42735859,  0.7877881 , -0.20855517, -0.04723406, -0.78864565],\n",
              "       [ 0.45634591,  0.72584326,  0.29597963,  0.20782452,  0.46847011],\n",
              "       [-0.99450389,  0.59579485,  0.71036558,  0.21300209,  0.12369205],\n",
              "       [-0.81216354, -0.33179143, -0.5978917 ,  0.20348896, -0.46750007]])"
            ]
          },
          "metadata": {},
          "execution_count": 52
        }
      ]
    },
    {
      "cell_type": "markdown",
      "source": [
        "from the above vectors we could see how similar words \"machine\" and \"learning\" are"
      ],
      "metadata": {
        "id": "CNiqMywv9BfI"
      }
    },
    {
      "cell_type": "code",
      "source": [
        ""
      ],
      "metadata": {
        "id": "Jxz2m4O49Mqz"
      },
      "execution_count": null,
      "outputs": []
    }
  ]
}