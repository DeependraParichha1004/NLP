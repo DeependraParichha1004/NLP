{
  "cells": [
    {
      "cell_type": "markdown",
      "source": [
        "## **Bidirectional LSTM**"
      ],
      "metadata": {
        "id": "15aPEaJ2c6SR"
      }
    },
    {
      "cell_type": "markdown",
      "source": [
        "Bi-LSTM are an extension of traditional LSTMs used for improving model performance on sequence classification problems. This structure allows the networks to have both backward and forward information about the sequence at every time step."
      ],
      "metadata": {
        "id": "QBsQHNAzdCU_"
      }
    },
    {
      "cell_type": "markdown",
      "source": [
        "<img src='https://production-media.paperswithcode.com/methods/Screen_Shot_2020-05-25_at_8.54.27_PM.png' style='width: 300px; height: 100px; user-select: auto;'></img>"
      ],
      "metadata": {
        "id": "I921-9_VbIe4"
      }
    },
    {
      "cell_type": "code",
      "execution_count": 1,
      "metadata": {
        "id": "0YXzZthjynMf"
      },
      "outputs": [],
      "source": [
        "import pandas as pd\n",
        "import numpy as np\n",
        "import matplotlib.pyplot as plt\n",
        "import tensorflow as tf\n",
        "import keras\n",
        "from sklearn.model_selection import train_test_split "
      ]
    },
    {
      "cell_type": "code",
      "execution_count": 2,
      "metadata": {
        "id": "YXJqKdSb1OFT",
        "colab": {
          "base_uri": "https://localhost:8080/",
          "height": 206
        },
        "outputId": "89c63ce1-0911-45bc-cddb-50e75fc50aeb"
      },
      "outputs": [
        {
          "output_type": "execute_result",
          "data": {
            "text/plain": [
              "                                                text  sentiment\n",
              "0  Wow. Yall needa step it up @Apple RT @heynyla:...         -1\n",
              "1  What Happened To Apple Inc?   http://t.co/FJEX...          0\n",
              "2  Thank u @apple I can now compile all of the pi...          1\n",
              "3  The oddly uplifting story of the Apple co-foun...          0\n",
              "4  @apple can i exchange my iphone for a differen...          0"
            ],
            "text/html": [
              "\n",
              "  <div id=\"df-facfee6b-2934-45fc-a854-53708254f828\">\n",
              "    <div class=\"colab-df-container\">\n",
              "      <div>\n",
              "<style scoped>\n",
              "    .dataframe tbody tr th:only-of-type {\n",
              "        vertical-align: middle;\n",
              "    }\n",
              "\n",
              "    .dataframe tbody tr th {\n",
              "        vertical-align: top;\n",
              "    }\n",
              "\n",
              "    .dataframe thead th {\n",
              "        text-align: right;\n",
              "    }\n",
              "</style>\n",
              "<table border=\"1\" class=\"dataframe\">\n",
              "  <thead>\n",
              "    <tr style=\"text-align: right;\">\n",
              "      <th></th>\n",
              "      <th>text</th>\n",
              "      <th>sentiment</th>\n",
              "    </tr>\n",
              "  </thead>\n",
              "  <tbody>\n",
              "    <tr>\n",
              "      <th>0</th>\n",
              "      <td>Wow. Yall needa step it up @Apple RT @heynyla:...</td>\n",
              "      <td>-1</td>\n",
              "    </tr>\n",
              "    <tr>\n",
              "      <th>1</th>\n",
              "      <td>What Happened To Apple Inc?   http://t.co/FJEX...</td>\n",
              "      <td>0</td>\n",
              "    </tr>\n",
              "    <tr>\n",
              "      <th>2</th>\n",
              "      <td>Thank u @apple I can now compile all of the pi...</td>\n",
              "      <td>1</td>\n",
              "    </tr>\n",
              "    <tr>\n",
              "      <th>3</th>\n",
              "      <td>The oddly uplifting story of the Apple co-foun...</td>\n",
              "      <td>0</td>\n",
              "    </tr>\n",
              "    <tr>\n",
              "      <th>4</th>\n",
              "      <td>@apple can i exchange my iphone for a differen...</td>\n",
              "      <td>0</td>\n",
              "    </tr>\n",
              "  </tbody>\n",
              "</table>\n",
              "</div>\n",
              "      <button class=\"colab-df-convert\" onclick=\"convertToInteractive('df-facfee6b-2934-45fc-a854-53708254f828')\"\n",
              "              title=\"Convert this dataframe to an interactive table.\"\n",
              "              style=\"display:none;\">\n",
              "        \n",
              "  <svg xmlns=\"http://www.w3.org/2000/svg\" height=\"24px\"viewBox=\"0 0 24 24\"\n",
              "       width=\"24px\">\n",
              "    <path d=\"M0 0h24v24H0V0z\" fill=\"none\"/>\n",
              "    <path d=\"M18.56 5.44l.94 2.06.94-2.06 2.06-.94-2.06-.94-.94-2.06-.94 2.06-2.06.94zm-11 1L8.5 8.5l.94-2.06 2.06-.94-2.06-.94L8.5 2.5l-.94 2.06-2.06.94zm10 10l.94 2.06.94-2.06 2.06-.94-2.06-.94-.94-2.06-.94 2.06-2.06.94z\"/><path d=\"M17.41 7.96l-1.37-1.37c-.4-.4-.92-.59-1.43-.59-.52 0-1.04.2-1.43.59L10.3 9.45l-7.72 7.72c-.78.78-.78 2.05 0 2.83L4 21.41c.39.39.9.59 1.41.59.51 0 1.02-.2 1.41-.59l7.78-7.78 2.81-2.81c.8-.78.8-2.07 0-2.86zM5.41 20L4 18.59l7.72-7.72 1.47 1.35L5.41 20z\"/>\n",
              "  </svg>\n",
              "      </button>\n",
              "      \n",
              "  <style>\n",
              "    .colab-df-container {\n",
              "      display:flex;\n",
              "      flex-wrap:wrap;\n",
              "      gap: 12px;\n",
              "    }\n",
              "\n",
              "    .colab-df-convert {\n",
              "      background-color: #E8F0FE;\n",
              "      border: none;\n",
              "      border-radius: 50%;\n",
              "      cursor: pointer;\n",
              "      display: none;\n",
              "      fill: #1967D2;\n",
              "      height: 32px;\n",
              "      padding: 0 0 0 0;\n",
              "      width: 32px;\n",
              "    }\n",
              "\n",
              "    .colab-df-convert:hover {\n",
              "      background-color: #E2EBFA;\n",
              "      box-shadow: 0px 1px 2px rgba(60, 64, 67, 0.3), 0px 1px 3px 1px rgba(60, 64, 67, 0.15);\n",
              "      fill: #174EA6;\n",
              "    }\n",
              "\n",
              "    [theme=dark] .colab-df-convert {\n",
              "      background-color: #3B4455;\n",
              "      fill: #D2E3FC;\n",
              "    }\n",
              "\n",
              "    [theme=dark] .colab-df-convert:hover {\n",
              "      background-color: #434B5C;\n",
              "      box-shadow: 0px 1px 3px 1px rgba(0, 0, 0, 0.15);\n",
              "      filter: drop-shadow(0px 1px 2px rgba(0, 0, 0, 0.3));\n",
              "      fill: #FFFFFF;\n",
              "    }\n",
              "  </style>\n",
              "\n",
              "      <script>\n",
              "        const buttonEl =\n",
              "          document.querySelector('#df-facfee6b-2934-45fc-a854-53708254f828 button.colab-df-convert');\n",
              "        buttonEl.style.display =\n",
              "          google.colab.kernel.accessAllowed ? 'block' : 'none';\n",
              "\n",
              "        async function convertToInteractive(key) {\n",
              "          const element = document.querySelector('#df-facfee6b-2934-45fc-a854-53708254f828');\n",
              "          const dataTable =\n",
              "            await google.colab.kernel.invokeFunction('convertToInteractive',\n",
              "                                                     [key], {});\n",
              "          if (!dataTable) return;\n",
              "\n",
              "          const docLinkHtml = 'Like what you see? Visit the ' +\n",
              "            '<a target=\"_blank\" href=https://colab.research.google.com/notebooks/data_table.ipynb>data table notebook</a>'\n",
              "            + ' to learn more about interactive tables.';\n",
              "          element.innerHTML = '';\n",
              "          dataTable['output_type'] = 'display_data';\n",
              "          await google.colab.output.renderOutput(dataTable, element);\n",
              "          const docLink = document.createElement('div');\n",
              "          docLink.innerHTML = docLinkHtml;\n",
              "          element.appendChild(docLink);\n",
              "        }\n",
              "      </script>\n",
              "    </div>\n",
              "  </div>\n",
              "  "
            ]
          },
          "metadata": {},
          "execution_count": 2
        }
      ],
      "source": [
        "data=pd.read_csv('apple-twitter-sentiment-texts.csv')\n",
        "data.head()"
      ]
    },
    {
      "cell_type": "markdown",
      "source": [
        "# Cleaning Text"
      ],
      "metadata": {
        "id": "_Rko0XTSsEja"
      }
    },
    {
      "cell_type": "code",
      "execution_count": 3,
      "metadata": {
        "colab": {
          "base_uri": "https://localhost:8080/"
        },
        "id": "qEDDFW1j8QN3",
        "outputId": "fac8825c-9145-4704-c6dc-3a5ddcf5b575"
      },
      "outputs": [
        {
          "output_type": "stream",
          "name": "stdout",
          "text": [
            "[nltk_data] Downloading package stopwords to /root/nltk_data...\n",
            "[nltk_data]   Unzipping corpora/stopwords.zip.\n"
          ]
        }
      ],
      "source": [
        "import nltk\n",
        "import string\n",
        "nltk.download('stopwords')\n",
        "from nltk.corpus import stopwords\n",
        "lines=[]\n",
        "\n",
        "for i,line in enumerate(data['text']):\n",
        "  for ele in line:\n",
        "    if ele in string.punctuation:\n",
        "      line=line.replace(ele,'')\n",
        "  lines.append(line)\n",
        "\n"
      ]
    },
    {
      "cell_type": "code",
      "execution_count": 4,
      "metadata": {
        "id": "MWLtGnQSLPVA"
      },
      "outputs": [],
      "source": [
        "def new_dataset(data,target):\n",
        "  lines_=pd.DataFrame(data=data)\n",
        "  new_data=[lines_,target]\n",
        "  concat=pd.concat(new_data,axis=1)\n",
        "  return concat"
      ]
    },
    {
      "cell_type": "markdown",
      "source": [
        "Creating New Dataset"
      ],
      "metadata": {
        "id": "gETxqLpRsNkC"
      }
    },
    {
      "cell_type": "code",
      "execution_count": 5,
      "metadata": {
        "id": "6xmWjjNHMCNz",
        "colab": {
          "base_uri": "https://localhost:8080/",
          "height": 423
        },
        "outputId": "1f4a10ca-2452-4cd9-e89e-4d3a40e87209"
      },
      "outputs": [
        {
          "output_type": "execute_result",
          "data": {
            "text/plain": [
              "                                                      0  sentiment\n",
              "0     Wow Yall needa step it up Apple RT heynyla Mus...         -1\n",
              "1     What Happened To Apple Inc   httptcoFJEXI3oP0U...          0\n",
              "2     Thank u apple I can now compile all of the pic...          1\n",
              "3     The oddly uplifting story of the Apple cofound...          0\n",
              "4     apple can i exchange my iphone for a different...          0\n",
              "...                                                 ...        ...\n",
              "1625        Those PICK UP THE SLACK YOU FUCK BOYS Apple         -1\n",
              "1626  Finally got my iPhone 6 in the mail and it com...         -1\n",
              "1627  umogames Apple ended up getting a new computer...          0\n",
              "1628  The 19YearOld WizKid Who Turned Down Apple Has...          0\n",
              "1629  The iPhone 6 May Have A Longer Upgrade Cycle  ...         -1\n",
              "\n",
              "[1630 rows x 2 columns]"
            ],
            "text/html": [
              "\n",
              "  <div id=\"df-67a28ff6-a9b8-4df1-b98f-6d4f94eef996\">\n",
              "    <div class=\"colab-df-container\">\n",
              "      <div>\n",
              "<style scoped>\n",
              "    .dataframe tbody tr th:only-of-type {\n",
              "        vertical-align: middle;\n",
              "    }\n",
              "\n",
              "    .dataframe tbody tr th {\n",
              "        vertical-align: top;\n",
              "    }\n",
              "\n",
              "    .dataframe thead th {\n",
              "        text-align: right;\n",
              "    }\n",
              "</style>\n",
              "<table border=\"1\" class=\"dataframe\">\n",
              "  <thead>\n",
              "    <tr style=\"text-align: right;\">\n",
              "      <th></th>\n",
              "      <th>0</th>\n",
              "      <th>sentiment</th>\n",
              "    </tr>\n",
              "  </thead>\n",
              "  <tbody>\n",
              "    <tr>\n",
              "      <th>0</th>\n",
              "      <td>Wow Yall needa step it up Apple RT heynyla Mus...</td>\n",
              "      <td>-1</td>\n",
              "    </tr>\n",
              "    <tr>\n",
              "      <th>1</th>\n",
              "      <td>What Happened To Apple Inc   httptcoFJEXI3oP0U...</td>\n",
              "      <td>0</td>\n",
              "    </tr>\n",
              "    <tr>\n",
              "      <th>2</th>\n",
              "      <td>Thank u apple I can now compile all of the pic...</td>\n",
              "      <td>1</td>\n",
              "    </tr>\n",
              "    <tr>\n",
              "      <th>3</th>\n",
              "      <td>The oddly uplifting story of the Apple cofound...</td>\n",
              "      <td>0</td>\n",
              "    </tr>\n",
              "    <tr>\n",
              "      <th>4</th>\n",
              "      <td>apple can i exchange my iphone for a different...</td>\n",
              "      <td>0</td>\n",
              "    </tr>\n",
              "    <tr>\n",
              "      <th>...</th>\n",
              "      <td>...</td>\n",
              "      <td>...</td>\n",
              "    </tr>\n",
              "    <tr>\n",
              "      <th>1625</th>\n",
              "      <td>Those PICK UP THE SLACK YOU FUCK BOYS Apple</td>\n",
              "      <td>-1</td>\n",
              "    </tr>\n",
              "    <tr>\n",
              "      <th>1626</th>\n",
              "      <td>Finally got my iPhone 6 in the mail and it com...</td>\n",
              "      <td>-1</td>\n",
              "    </tr>\n",
              "    <tr>\n",
              "      <th>1627</th>\n",
              "      <td>umogames Apple ended up getting a new computer...</td>\n",
              "      <td>0</td>\n",
              "    </tr>\n",
              "    <tr>\n",
              "      <th>1628</th>\n",
              "      <td>The 19YearOld WizKid Who Turned Down Apple Has...</td>\n",
              "      <td>0</td>\n",
              "    </tr>\n",
              "    <tr>\n",
              "      <th>1629</th>\n",
              "      <td>The iPhone 6 May Have A Longer Upgrade Cycle  ...</td>\n",
              "      <td>-1</td>\n",
              "    </tr>\n",
              "  </tbody>\n",
              "</table>\n",
              "<p>1630 rows × 2 columns</p>\n",
              "</div>\n",
              "      <button class=\"colab-df-convert\" onclick=\"convertToInteractive('df-67a28ff6-a9b8-4df1-b98f-6d4f94eef996')\"\n",
              "              title=\"Convert this dataframe to an interactive table.\"\n",
              "              style=\"display:none;\">\n",
              "        \n",
              "  <svg xmlns=\"http://www.w3.org/2000/svg\" height=\"24px\"viewBox=\"0 0 24 24\"\n",
              "       width=\"24px\">\n",
              "    <path d=\"M0 0h24v24H0V0z\" fill=\"none\"/>\n",
              "    <path d=\"M18.56 5.44l.94 2.06.94-2.06 2.06-.94-2.06-.94-.94-2.06-.94 2.06-2.06.94zm-11 1L8.5 8.5l.94-2.06 2.06-.94-2.06-.94L8.5 2.5l-.94 2.06-2.06.94zm10 10l.94 2.06.94-2.06 2.06-.94-2.06-.94-.94-2.06-.94 2.06-2.06.94z\"/><path d=\"M17.41 7.96l-1.37-1.37c-.4-.4-.92-.59-1.43-.59-.52 0-1.04.2-1.43.59L10.3 9.45l-7.72 7.72c-.78.78-.78 2.05 0 2.83L4 21.41c.39.39.9.59 1.41.59.51 0 1.02-.2 1.41-.59l7.78-7.78 2.81-2.81c.8-.78.8-2.07 0-2.86zM5.41 20L4 18.59l7.72-7.72 1.47 1.35L5.41 20z\"/>\n",
              "  </svg>\n",
              "      </button>\n",
              "      \n",
              "  <style>\n",
              "    .colab-df-container {\n",
              "      display:flex;\n",
              "      flex-wrap:wrap;\n",
              "      gap: 12px;\n",
              "    }\n",
              "\n",
              "    .colab-df-convert {\n",
              "      background-color: #E8F0FE;\n",
              "      border: none;\n",
              "      border-radius: 50%;\n",
              "      cursor: pointer;\n",
              "      display: none;\n",
              "      fill: #1967D2;\n",
              "      height: 32px;\n",
              "      padding: 0 0 0 0;\n",
              "      width: 32px;\n",
              "    }\n",
              "\n",
              "    .colab-df-convert:hover {\n",
              "      background-color: #E2EBFA;\n",
              "      box-shadow: 0px 1px 2px rgba(60, 64, 67, 0.3), 0px 1px 3px 1px rgba(60, 64, 67, 0.15);\n",
              "      fill: #174EA6;\n",
              "    }\n",
              "\n",
              "    [theme=dark] .colab-df-convert {\n",
              "      background-color: #3B4455;\n",
              "      fill: #D2E3FC;\n",
              "    }\n",
              "\n",
              "    [theme=dark] .colab-df-convert:hover {\n",
              "      background-color: #434B5C;\n",
              "      box-shadow: 0px 1px 3px 1px rgba(0, 0, 0, 0.15);\n",
              "      filter: drop-shadow(0px 1px 2px rgba(0, 0, 0, 0.3));\n",
              "      fill: #FFFFFF;\n",
              "    }\n",
              "  </style>\n",
              "\n",
              "      <script>\n",
              "        const buttonEl =\n",
              "          document.querySelector('#df-67a28ff6-a9b8-4df1-b98f-6d4f94eef996 button.colab-df-convert');\n",
              "        buttonEl.style.display =\n",
              "          google.colab.kernel.accessAllowed ? 'block' : 'none';\n",
              "\n",
              "        async function convertToInteractive(key) {\n",
              "          const element = document.querySelector('#df-67a28ff6-a9b8-4df1-b98f-6d4f94eef996');\n",
              "          const dataTable =\n",
              "            await google.colab.kernel.invokeFunction('convertToInteractive',\n",
              "                                                     [key], {});\n",
              "          if (!dataTable) return;\n",
              "\n",
              "          const docLinkHtml = 'Like what you see? Visit the ' +\n",
              "            '<a target=\"_blank\" href=https://colab.research.google.com/notebooks/data_table.ipynb>data table notebook</a>'\n",
              "            + ' to learn more about interactive tables.';\n",
              "          element.innerHTML = '';\n",
              "          dataTable['output_type'] = 'display_data';\n",
              "          await google.colab.output.renderOutput(dataTable, element);\n",
              "          const docLink = document.createElement('div');\n",
              "          docLink.innerHTML = docLinkHtml;\n",
              "          element.appendChild(docLink);\n",
              "        }\n",
              "      </script>\n",
              "    </div>\n",
              "  </div>\n",
              "  "
            ]
          },
          "metadata": {},
          "execution_count": 5
        }
      ],
      "source": [
        "new_data=new_dataset(lines,data['sentiment'])\n",
        "new_data"
      ]
    },
    {
      "cell_type": "code",
      "source": [
        "new_data[0]=new_data[0].astype('string')"
      ],
      "metadata": {
        "id": "NOH6BLo1dddk"
      },
      "execution_count": 6,
      "outputs": []
    },
    {
      "cell_type": "code",
      "source": [
        "new_data"
      ],
      "metadata": {
        "id": "J_ptso28dnGk",
        "colab": {
          "base_uri": "https://localhost:8080/",
          "height": 423
        },
        "outputId": "465e27d9-0f7a-4979-ddab-74b95942b61e"
      },
      "execution_count": 7,
      "outputs": [
        {
          "output_type": "execute_result",
          "data": {
            "text/plain": [
              "                                                      0  sentiment\n",
              "0     Wow Yall needa step it up Apple RT heynyla Mus...         -1\n",
              "1     What Happened To Apple Inc   httptcoFJEXI3oP0U...          0\n",
              "2     Thank u apple I can now compile all of the pic...          1\n",
              "3     The oddly uplifting story of the Apple cofound...          0\n",
              "4     apple can i exchange my iphone for a different...          0\n",
              "...                                                 ...        ...\n",
              "1625        Those PICK UP THE SLACK YOU FUCK BOYS Apple         -1\n",
              "1626  Finally got my iPhone 6 in the mail and it com...         -1\n",
              "1627  umogames Apple ended up getting a new computer...          0\n",
              "1628  The 19YearOld WizKid Who Turned Down Apple Has...          0\n",
              "1629  The iPhone 6 May Have A Longer Upgrade Cycle  ...         -1\n",
              "\n",
              "[1630 rows x 2 columns]"
            ],
            "text/html": [
              "\n",
              "  <div id=\"df-48844b88-04b8-4168-b607-0840d7f14a77\">\n",
              "    <div class=\"colab-df-container\">\n",
              "      <div>\n",
              "<style scoped>\n",
              "    .dataframe tbody tr th:only-of-type {\n",
              "        vertical-align: middle;\n",
              "    }\n",
              "\n",
              "    .dataframe tbody tr th {\n",
              "        vertical-align: top;\n",
              "    }\n",
              "\n",
              "    .dataframe thead th {\n",
              "        text-align: right;\n",
              "    }\n",
              "</style>\n",
              "<table border=\"1\" class=\"dataframe\">\n",
              "  <thead>\n",
              "    <tr style=\"text-align: right;\">\n",
              "      <th></th>\n",
              "      <th>0</th>\n",
              "      <th>sentiment</th>\n",
              "    </tr>\n",
              "  </thead>\n",
              "  <tbody>\n",
              "    <tr>\n",
              "      <th>0</th>\n",
              "      <td>Wow Yall needa step it up Apple RT heynyla Mus...</td>\n",
              "      <td>-1</td>\n",
              "    </tr>\n",
              "    <tr>\n",
              "      <th>1</th>\n",
              "      <td>What Happened To Apple Inc   httptcoFJEXI3oP0U...</td>\n",
              "      <td>0</td>\n",
              "    </tr>\n",
              "    <tr>\n",
              "      <th>2</th>\n",
              "      <td>Thank u apple I can now compile all of the pic...</td>\n",
              "      <td>1</td>\n",
              "    </tr>\n",
              "    <tr>\n",
              "      <th>3</th>\n",
              "      <td>The oddly uplifting story of the Apple cofound...</td>\n",
              "      <td>0</td>\n",
              "    </tr>\n",
              "    <tr>\n",
              "      <th>4</th>\n",
              "      <td>apple can i exchange my iphone for a different...</td>\n",
              "      <td>0</td>\n",
              "    </tr>\n",
              "    <tr>\n",
              "      <th>...</th>\n",
              "      <td>...</td>\n",
              "      <td>...</td>\n",
              "    </tr>\n",
              "    <tr>\n",
              "      <th>1625</th>\n",
              "      <td>Those PICK UP THE SLACK YOU FUCK BOYS Apple</td>\n",
              "      <td>-1</td>\n",
              "    </tr>\n",
              "    <tr>\n",
              "      <th>1626</th>\n",
              "      <td>Finally got my iPhone 6 in the mail and it com...</td>\n",
              "      <td>-1</td>\n",
              "    </tr>\n",
              "    <tr>\n",
              "      <th>1627</th>\n",
              "      <td>umogames Apple ended up getting a new computer...</td>\n",
              "      <td>0</td>\n",
              "    </tr>\n",
              "    <tr>\n",
              "      <th>1628</th>\n",
              "      <td>The 19YearOld WizKid Who Turned Down Apple Has...</td>\n",
              "      <td>0</td>\n",
              "    </tr>\n",
              "    <tr>\n",
              "      <th>1629</th>\n",
              "      <td>The iPhone 6 May Have A Longer Upgrade Cycle  ...</td>\n",
              "      <td>-1</td>\n",
              "    </tr>\n",
              "  </tbody>\n",
              "</table>\n",
              "<p>1630 rows × 2 columns</p>\n",
              "</div>\n",
              "      <button class=\"colab-df-convert\" onclick=\"convertToInteractive('df-48844b88-04b8-4168-b607-0840d7f14a77')\"\n",
              "              title=\"Convert this dataframe to an interactive table.\"\n",
              "              style=\"display:none;\">\n",
              "        \n",
              "  <svg xmlns=\"http://www.w3.org/2000/svg\" height=\"24px\"viewBox=\"0 0 24 24\"\n",
              "       width=\"24px\">\n",
              "    <path d=\"M0 0h24v24H0V0z\" fill=\"none\"/>\n",
              "    <path d=\"M18.56 5.44l.94 2.06.94-2.06 2.06-.94-2.06-.94-.94-2.06-.94 2.06-2.06.94zm-11 1L8.5 8.5l.94-2.06 2.06-.94-2.06-.94L8.5 2.5l-.94 2.06-2.06.94zm10 10l.94 2.06.94-2.06 2.06-.94-2.06-.94-.94-2.06-.94 2.06-2.06.94z\"/><path d=\"M17.41 7.96l-1.37-1.37c-.4-.4-.92-.59-1.43-.59-.52 0-1.04.2-1.43.59L10.3 9.45l-7.72 7.72c-.78.78-.78 2.05 0 2.83L4 21.41c.39.39.9.59 1.41.59.51 0 1.02-.2 1.41-.59l7.78-7.78 2.81-2.81c.8-.78.8-2.07 0-2.86zM5.41 20L4 18.59l7.72-7.72 1.47 1.35L5.41 20z\"/>\n",
              "  </svg>\n",
              "      </button>\n",
              "      \n",
              "  <style>\n",
              "    .colab-df-container {\n",
              "      display:flex;\n",
              "      flex-wrap:wrap;\n",
              "      gap: 12px;\n",
              "    }\n",
              "\n",
              "    .colab-df-convert {\n",
              "      background-color: #E8F0FE;\n",
              "      border: none;\n",
              "      border-radius: 50%;\n",
              "      cursor: pointer;\n",
              "      display: none;\n",
              "      fill: #1967D2;\n",
              "      height: 32px;\n",
              "      padding: 0 0 0 0;\n",
              "      width: 32px;\n",
              "    }\n",
              "\n",
              "    .colab-df-convert:hover {\n",
              "      background-color: #E2EBFA;\n",
              "      box-shadow: 0px 1px 2px rgba(60, 64, 67, 0.3), 0px 1px 3px 1px rgba(60, 64, 67, 0.15);\n",
              "      fill: #174EA6;\n",
              "    }\n",
              "\n",
              "    [theme=dark] .colab-df-convert {\n",
              "      background-color: #3B4455;\n",
              "      fill: #D2E3FC;\n",
              "    }\n",
              "\n",
              "    [theme=dark] .colab-df-convert:hover {\n",
              "      background-color: #434B5C;\n",
              "      box-shadow: 0px 1px 3px 1px rgba(0, 0, 0, 0.15);\n",
              "      filter: drop-shadow(0px 1px 2px rgba(0, 0, 0, 0.3));\n",
              "      fill: #FFFFFF;\n",
              "    }\n",
              "  </style>\n",
              "\n",
              "      <script>\n",
              "        const buttonEl =\n",
              "          document.querySelector('#df-48844b88-04b8-4168-b607-0840d7f14a77 button.colab-df-convert');\n",
              "        buttonEl.style.display =\n",
              "          google.colab.kernel.accessAllowed ? 'block' : 'none';\n",
              "\n",
              "        async function convertToInteractive(key) {\n",
              "          const element = document.querySelector('#df-48844b88-04b8-4168-b607-0840d7f14a77');\n",
              "          const dataTable =\n",
              "            await google.colab.kernel.invokeFunction('convertToInteractive',\n",
              "                                                     [key], {});\n",
              "          if (!dataTable) return;\n",
              "\n",
              "          const docLinkHtml = 'Like what you see? Visit the ' +\n",
              "            '<a target=\"_blank\" href=https://colab.research.google.com/notebooks/data_table.ipynb>data table notebook</a>'\n",
              "            + ' to learn more about interactive tables.';\n",
              "          element.innerHTML = '';\n",
              "          dataTable['output_type'] = 'display_data';\n",
              "          await google.colab.output.renderOutput(dataTable, element);\n",
              "          const docLink = document.createElement('div');\n",
              "          docLink.innerHTML = docLinkHtml;\n",
              "          element.appendChild(docLink);\n",
              "        }\n",
              "      </script>\n",
              "    </div>\n",
              "  </div>\n",
              "  "
            ]
          },
          "metadata": {},
          "execution_count": 7
        }
      ]
    },
    {
      "cell_type": "code",
      "source": [
        "new_data.info()"
      ],
      "metadata": {
        "colab": {
          "base_uri": "https://localhost:8080/"
        },
        "id": "UjSMoO1pcJ_S",
        "outputId": "3c80e152-efac-4701-b3d1-7efea342b51f"
      },
      "execution_count": 8,
      "outputs": [
        {
          "output_type": "stream",
          "name": "stdout",
          "text": [
            "<class 'pandas.core.frame.DataFrame'>\n",
            "RangeIndex: 1630 entries, 0 to 1629\n",
            "Data columns (total 2 columns):\n",
            " #   Column     Non-Null Count  Dtype \n",
            "---  ------     --------------  ----- \n",
            " 0   0          1630 non-null   string\n",
            " 1   sentiment  1630 non-null   int64 \n",
            "dtypes: int64(1), string(1)\n",
            "memory usage: 25.6 KB\n"
          ]
        }
      ]
    },
    {
      "cell_type": "code",
      "execution_count": 9,
      "metadata": {
        "id": "GrOxQHEpKT92"
      },
      "outputs": [],
      "source": [
        "import nltk\n",
        "new_lines=[]\n",
        "for line in new_data[0]:\n",
        "  lines=nltk.tokenize.sent_tokenize\n",
        "  new_lines.append(lines)"
      ]
    },
    {
      "cell_type": "markdown",
      "source": [
        "### Tokenization and Padding the sequence input"
      ],
      "metadata": {
        "id": "-2T6C2NBsXBU"
      }
    },
    {
      "cell_type": "code",
      "execution_count": 10,
      "metadata": {
        "colab": {
          "base_uri": "https://localhost:8080/"
        },
        "id": "rQIgk1NtMUW4",
        "outputId": "435344ff-76be-492d-b2fd-22d0b2aa41c1"
      },
      "outputs": [
        {
          "output_type": "stream",
          "name": "stdout",
          "text": [
            "[nltk_data] Downloading package punkt to /root/nltk_data...\n",
            "[nltk_data]   Unzipping tokenizers/punkt.zip.\n"
          ]
        }
      ],
      "source": [
        "from keras.preprocessing.text import Tokenizer\n",
        "from keras.preprocessing.sequence import pad_sequences\n",
        "new_list=[]\n",
        "\n",
        "nltk.download('punkt')\n",
        "from keras.preprocessing.text import Tokenizer\n",
        "def sequence_data_dataset(data,n):\n",
        "  # for str_ in data[0]:\n",
        "  \n",
        "  # tokens=nltk.word_tokenize(data)\n",
        "  # sents=nltk.sent_tokenize(data)\n",
        "  tokenize=Tokenizer(num_words=5000)\n",
        "  # if len(tokens)<n:\n",
        "  # for i in range(0,len(sents),1):\n",
        "  tokenize.fit_on_texts(data)\n",
        "  tokens_=tokenize.texts_to_sequences(data)\n",
        "  tokens_=pad_sequences(tokens_,padding='post',maxlen=n)\n",
        "  \n",
        "  return tokens_,tokenize\n",
        "#   concat=[pd.DataFrame(data=new_list),data['sentiment']]\n",
        "#   return pd.concat(concat,axis=1)"
      ]
    },
    {
      "cell_type": "code",
      "execution_count": 11,
      "metadata": {
        "id": "M6t65C5laXxJ",
        "colab": {
          "base_uri": "https://localhost:8080/"
        },
        "outputId": "f33f6c39-6dca-4f94-9bdc-a28d30d9e93c"
      },
      "outputs": [
        {
          "output_type": "execute_result",
          "data": {
            "text/plain": [
              "(1630, 7)"
            ]
          },
          "metadata": {},
          "execution_count": 11
        }
      ],
      "source": [
        "new_dataset,tokenize=sequence_data_dataset(new_data[0],7)\n",
        "new_dataset\n",
        "new_dataset.shape"
      ]
    },
    {
      "cell_type": "code",
      "source": [
        "new_dataset"
      ],
      "metadata": {
        "colab": {
          "base_uri": "https://localhost:8080/"
        },
        "id": "rCNUmhS9qDA2",
        "outputId": "79505321-adc0-4666-882a-46018f0ed458"
      },
      "execution_count": 12,
      "outputs": [
        {
          "output_type": "execute_result",
          "data": {
            "text/plain": [
              "array([[   2,  323,  366, ...,  159,   14, 1955],\n",
              "       [   1,   44, 1956, ...,    1, 1957, 1958],\n",
              "       [   6, 1960,   19, ...,   76,  674, 1961],\n",
              "       ...,\n",
              "       [ 475,   48,   14, ..., 1099,  217,  808],\n",
              "       [1003,  212,    1, ...,   32,    5,  798],\n",
              "       [  23,  682,  170, ...,  708,    4,   24]], dtype=int32)"
            ]
          },
          "metadata": {},
          "execution_count": 12
        }
      ]
    },
    {
      "cell_type": "code",
      "source": [
        "X=new_dataset\n",
        "# Y=new_data['sentiment']\n",
        "Y = pd.get_dummies(new_data['sentiment'])"
      ],
      "metadata": {
        "id": "Oe_wK15pTR5r"
      },
      "execution_count": 13,
      "outputs": []
    },
    {
      "cell_type": "markdown",
      "source": [
        "### splitting the Dataset(New) into train and test"
      ],
      "metadata": {
        "id": "FsnVGzvRsju7"
      }
    },
    {
      "cell_type": "code",
      "execution_count": 79,
      "metadata": {
        "id": "jiCvDTZblaX-"
      },
      "outputs": [],
      "source": [
        "from sklearn.model_selection import train_test_split\n",
        "x_train,x_test,y_train,y_test=train_test_split(X,Y,test_size=0.2,random_state=0)\n",
        "x_train,x_val,y_train,y_val=train_test_split(x_train,y_train,test_size=0.1,random_state=0)"
      ]
    },
    {
      "cell_type": "code",
      "execution_count": 15,
      "metadata": {
        "colab": {
          "base_uri": "https://localhost:8080/"
        },
        "id": "oAjLJlobwDet",
        "outputId": "b190ceb3-1e63-45b3-ab3c-4d69471b4e56"
      },
      "outputs": [
        {
          "output_type": "execute_result",
          "data": {
            "text/plain": [
              "(1304, 7)"
            ]
          },
          "metadata": {},
          "execution_count": 15
        }
      ],
      "source": [
        "x_train.shape"
      ]
    },
    {
      "cell_type": "code",
      "source": [
        "y_train.shape\n"
      ],
      "metadata": {
        "colab": {
          "base_uri": "https://localhost:8080/"
        },
        "id": "J_BVGgagqIdJ",
        "outputId": "f1b33363-6af9-4e44-fb4e-552623867007"
      },
      "execution_count": 16,
      "outputs": [
        {
          "output_type": "execute_result",
          "data": {
            "text/plain": [
              "(1304, 3)"
            ]
          },
          "metadata": {},
          "execution_count": 16
        }
      ]
    },
    {
      "cell_type": "markdown",
      "source": [
        "## Bidirectional-LSTM VS CNN "
      ],
      "metadata": {
        "id": "xdPiruhCtrlv"
      }
    },
    {
      "cell_type": "code",
      "execution_count": 80,
      "metadata": {
        "colab": {
          "base_uri": "https://localhost:8080/"
        },
        "id": "mKfklLkGtzHj",
        "outputId": "f28e0708-f31d-490c-b2c2-16ba7d033c28"
      },
      "outputs": [
        {
          "output_type": "stream",
          "name": "stdout",
          "text": [
            "Model: \"sequential_3\"\n",
            "_________________________________________________________________\n",
            " Layer (type)                Output Shape              Param #   \n",
            "=================================================================\n",
            " embedding_3 (Embedding)     (None, 7, 15)             90000     \n",
            "                                                                 \n",
            " bidirectional_3 (Bidirectio  (None, 128)              40960     \n",
            " nal)                                                            \n",
            "                                                                 \n",
            " dropout_5 (Dropout)         (None, 128)               0         \n",
            "                                                                 \n",
            " dense_3 (Dense)             (None, 3)                 387       \n",
            "                                                                 \n",
            "=================================================================\n",
            "Total params: 131,347\n",
            "Trainable params: 131,347\n",
            "Non-trainable params: 0\n",
            "_________________________________________________________________\n",
            "Epoch 1/30\n",
            "8/8 [==============================] - 5s 148ms/step - loss: 1.0824 - accuracy: 0.4733 - val_loss: 1.0484 - val_accuracy: 0.5617\n",
            "Epoch 2/30\n",
            "8/8 [==============================] - 0s 22ms/step - loss: 1.0269 - accuracy: 0.4872 - val_loss: 0.9695 - val_accuracy: 0.5617\n",
            "Epoch 3/30\n",
            "8/8 [==============================] - 0s 21ms/step - loss: 0.9461 - accuracy: 0.4872 - val_loss: 0.8838 - val_accuracy: 0.5617\n",
            "Epoch 4/30\n",
            "8/8 [==============================] - 0s 22ms/step - loss: 0.8948 - accuracy: 0.4893 - val_loss: 0.8765 - val_accuracy: 0.5660\n",
            "Epoch 5/30\n",
            "8/8 [==============================] - 0s 23ms/step - loss: 0.8626 - accuracy: 0.6674 - val_loss: 0.8678 - val_accuracy: 0.7319\n",
            "Epoch 6/30\n",
            "8/8 [==============================] - 0s 21ms/step - loss: 0.8106 - accuracy: 0.7793 - val_loss: 0.8217 - val_accuracy: 0.7149\n",
            "Epoch 7/30\n",
            "8/8 [==============================] - 0s 21ms/step - loss: 0.7178 - accuracy: 0.7953 - val_loss: 0.7554 - val_accuracy: 0.7319\n",
            "Epoch 8/30\n",
            "8/8 [==============================] - 0s 21ms/step - loss: 0.5665 - accuracy: 0.8326 - val_loss: 0.6943 - val_accuracy: 0.7234\n",
            "Epoch 9/30\n",
            "8/8 [==============================] - 0s 22ms/step - loss: 0.3848 - accuracy: 0.8571 - val_loss: 0.6956 - val_accuracy: 0.7404\n",
            "Epoch 10/30\n",
            "8/8 [==============================] - 0s 21ms/step - loss: 0.2606 - accuracy: 0.8806 - val_loss: 0.7310 - val_accuracy: 0.7234\n",
            "Epoch 11/30\n",
            "8/8 [==============================] - 0s 23ms/step - loss: 0.1683 - accuracy: 0.9424 - val_loss: 0.7835 - val_accuracy: 0.7191\n",
            "Epoch 12/30\n",
            "8/8 [==============================] - 0s 21ms/step - loss: 0.1055 - accuracy: 0.9797 - val_loss: 0.8513 - val_accuracy: 0.7149\n",
            "Epoch 13/30\n",
            "8/8 [==============================] - 0s 20ms/step - loss: 0.0684 - accuracy: 0.9829 - val_loss: 0.9676 - val_accuracy: 0.7106\n",
            "Epoch 14/30\n",
            "8/8 [==============================] - 0s 22ms/step - loss: 0.0448 - accuracy: 0.9904 - val_loss: 1.0737 - val_accuracy: 0.6894\n",
            "Epoch 15/30\n",
            "8/8 [==============================] - 0s 21ms/step - loss: 0.0311 - accuracy: 0.9915 - val_loss: 1.1293 - val_accuracy: 0.6809\n",
            "Epoch 16/30\n",
            "8/8 [==============================] - 0s 22ms/step - loss: 0.0229 - accuracy: 0.9968 - val_loss: 1.1766 - val_accuracy: 0.6766\n",
            "Epoch 17/30\n",
            "8/8 [==============================] - 0s 22ms/step - loss: 0.0151 - accuracy: 0.9979 - val_loss: 1.2229 - val_accuracy: 0.6809\n",
            "Epoch 18/30\n",
            "8/8 [==============================] - 0s 22ms/step - loss: 0.0169 - accuracy: 0.9957 - val_loss: 1.2464 - val_accuracy: 0.6766\n",
            "Epoch 19/30\n",
            "8/8 [==============================] - 0s 21ms/step - loss: 0.0118 - accuracy: 0.9979 - val_loss: 1.2435 - val_accuracy: 0.6894\n",
            "Epoch 20/30\n",
            "8/8 [==============================] - 0s 24ms/step - loss: 0.0101 - accuracy: 0.9968 - val_loss: 1.2715 - val_accuracy: 0.6766\n",
            "Epoch 21/30\n",
            "8/8 [==============================] - 0s 23ms/step - loss: 0.0077 - accuracy: 0.9979 - val_loss: 1.2892 - val_accuracy: 0.6894\n",
            "Epoch 22/30\n",
            "8/8 [==============================] - 0s 24ms/step - loss: 0.0089 - accuracy: 0.9968 - val_loss: 1.3156 - val_accuracy: 0.6766\n",
            "Epoch 23/30\n",
            "8/8 [==============================] - 0s 22ms/step - loss: 0.0063 - accuracy: 0.9979 - val_loss: 1.3239 - val_accuracy: 0.6979\n",
            "Epoch 24/30\n",
            "8/8 [==============================] - 0s 21ms/step - loss: 0.0072 - accuracy: 0.9979 - val_loss: 1.3351 - val_accuracy: 0.6979\n",
            "Epoch 25/30\n",
            "8/8 [==============================] - 0s 21ms/step - loss: 0.0070 - accuracy: 0.9968 - val_loss: 1.3431 - val_accuracy: 0.7021\n",
            "Epoch 26/30\n",
            "8/8 [==============================] - 0s 21ms/step - loss: 0.0079 - accuracy: 0.9968 - val_loss: 1.3560 - val_accuracy: 0.6894\n",
            "Epoch 27/30\n",
            "8/8 [==============================] - 0s 20ms/step - loss: 0.0054 - accuracy: 0.9979 - val_loss: 1.3711 - val_accuracy: 0.6894\n",
            "Epoch 28/30\n",
            "8/8 [==============================] - 0s 24ms/step - loss: 0.0060 - accuracy: 0.9989 - val_loss: 1.3729 - val_accuracy: 0.6851\n",
            "Epoch 29/30\n",
            "8/8 [==============================] - 0s 21ms/step - loss: 0.0064 - accuracy: 0.9968 - val_loss: 1.3809 - val_accuracy: 0.6809\n",
            "Epoch 30/30\n",
            "8/8 [==============================] - 0s 21ms/step - loss: 0.0055 - accuracy: 0.9979 - val_loss: 1.3957 - val_accuracy: 0.6851\n"
          ]
        }
      ],
      "source": [
        "model1 = keras.Sequential([\n",
        "    keras.layers.Embedding(6000, 15, input_length=7),\n",
        "    keras.layers.Bidirectional(keras.layers.LSTM(64)),\n",
        "    keras.layers.Dropout(0.2),\n",
        "    keras.layers.Dense(3, activation='softmax')\n",
        "])\n",
        "\n",
        "# compiles model\n",
        "model1.compile(loss='categorical_crossentropy',\n",
        "              optimizer='adam',\n",
        "              metrics=['accuracy'])\n",
        "\n",
        "# model summary\n",
        "model1.summary()\n",
        "\n",
        "num_epochs = 30\n",
        "history1 = model1.fit(x_train,y_train, epochs=num_epochs, batch_size = 128, verbose=1, validation_split=0.2)"
      ]
    },
    {
      "cell_type": "code",
      "source": [
        "print(history1.history.keys())"
      ],
      "metadata": {
        "colab": {
          "base_uri": "https://localhost:8080/"
        },
        "id": "aVqBEaUmgMQA",
        "outputId": "a27e8e5f-55e2-463d-b398-2880e9051fed"
      },
      "execution_count": 18,
      "outputs": [
        {
          "output_type": "stream",
          "name": "stdout",
          "text": [
            "dict_keys(['loss', 'accuracy', 'val_loss', 'val_accuracy'])\n"
          ]
        }
      ]
    },
    {
      "cell_type": "code",
      "source": [
        "fig,ax=plt.subplots(1,2,sharey=True,figsize=(9,5))\n",
        "fig=plt.figure(figsize=(8,10))\n",
        "\n",
        "ax[0].plot(pd.DataFrame(history1.history['accuracy']))\n",
        "ax[0].plot(pd.DataFrame(history1.history['val_accuracy']))\n",
        "ax[0].set_title('Accuracy')\n",
        "ax[0].legend(['train','test'])\n",
        "\n",
        "ax[1].plot(pd.DataFrame(history1.history['loss']))\n",
        "ax[1].plot(pd.DataFrame(history1.history['val_loss']))\n",
        "ax[1].set_title('Loss')\n",
        "ax[1].legend(['train','test'])"
      ],
      "metadata": {
        "colab": {
          "base_uri": "https://localhost:8080/",
          "height": 371
        },
        "id": "BgChG7zBfagT",
        "outputId": "a73c14a8-7ea7-4614-e5c9-bbf2265e9b68"
      },
      "execution_count": 81,
      "outputs": [
        {
          "output_type": "execute_result",
          "data": {
            "text/plain": [
              "<matplotlib.legend.Legend at 0x7fd700193fd0>"
            ]
          },
          "metadata": {},
          "execution_count": 81
        },
        {
          "output_type": "display_data",
          "data": {
            "text/plain": [
              "<Figure size 648x360 with 2 Axes>"
            ],
            "image/png": "[encoded data removed]"
          },
          "metadata": {
            "needs_background": "light"
          }
        },
        {
          "output_type": "display_data",
          "data": {
            "text/plain": [
              "<Figure size 576x720 with 0 Axes>"
            ]
          },
          "metadata": {}
        }
      ]
    },
    {
      "cell_type": "code",
      "source": [
        "from keras.models import Sequential\n",
        "from keras.layers import Embedding, Conv1D, MaxPooling1D, Bidirectional, LSTM, Dense, Dropout\n",
        "from keras.metrics import Precision, Recall\n",
        "# from tf.keras.optimizers import SGD\n",
        "# from keras.optimizers import RMSprop\n",
        "from keras import datasets\n",
        "\n",
        "from keras.callbacks import LearningRateScheduler\n",
        "from keras.callbacks import History\n",
        "\n",
        "from keras import losses\n",
        "\n",
        "vocab_size = 5000\n",
        "embedding_size = 32\n",
        "epochs=30\n",
        "learning_rate = 0.1\n",
        "decay_rate = learning_rate / epochs\n",
        "momentum = 0.8\n",
        "\n",
        "# sgd = SGD(lr=learning_rate, momentum=momentum, decay=decay_rate, nesterov=False)\n",
        "# Build model\n",
        "model= Sequential()\n",
        "model.add(Embedding(vocab_size, embedding_size, input_length=7))\n",
        "model.add(Dropout(0.4))\n",
        "model.add(Conv1D(filters=32, kernel_size=3, padding='same', activation='relu'))\n",
        "model.add(MaxPooling1D(pool_size=2))\n",
        "model.add(Dropout(0.4))\n",
        "model.add(Bidirectional(LSTM(32)))\n",
        "model.add(Dropout(0.4))\n",
        "model.add(Dense(3, activation='softmax'))\n",
        "import tensorflow as tf\n",
        "tf.keras.utils.plot_model(model, show_shapes=True)\n",
        "\n",
        "print(model.summary())\n",
        "\n",
        "# Compile model\n",
        "model.compile(loss='categorical_crossentropy', optimizer='adam', \n",
        "               metrics=['accuracy', Precision(), Recall()])\n",
        "\n",
        "# Train model\n",
        "\n",
        "batch_size = 64\n",
        "history = model.fit( x_train, y_train,\n",
        "                      batch_size=batch_size, epochs=epochs, verbose=1)"
      ],
      "metadata": {
        "colab": {
          "base_uri": "https://localhost:8080/"
        },
        "id": "uTY8PSdjqgWe",
        "outputId": "270591e1-9ab6-48cc-815c-1cf1916fedfa"
      },
      "execution_count": 39,
      "outputs": [
        {
          "output_type": "stream",
          "name": "stdout",
          "text": [
            "Model: \"sequential_2\"\n",
            "_________________________________________________________________\n",
            " Layer (type)                Output Shape              Param #   \n",
            "=================================================================\n",
            " embedding_2 (Embedding)     (None, 7, 32)             160000    \n",
            "                                                                 \n",
            " dropout_2 (Dropout)         (None, 7, 32)             0         \n",
            "                                                                 \n",
            " conv1d_1 (Conv1D)           (None, 7, 32)             3104      \n",
            "                                                                 \n",
            " max_pooling1d_1 (MaxPooling  (None, 3, 32)            0         \n",
            " 1D)                                                             \n",
            "                                                                 \n",
            " dropout_3 (Dropout)         (None, 3, 32)             0         \n",
            "                                                                 \n",
            " bidirectional_2 (Bidirectio  (None, 64)               16640     \n",
            " nal)                                                            \n",
            "                                                                 \n",
            " dropout_4 (Dropout)         (None, 64)                0         \n",
            "                                                                 \n",
            " dense_2 (Dense)             (None, 3)                 195       \n",
            "                                                                 \n",
            "=================================================================\n",
            "Total params: 179,939\n",
            "Trainable params: 179,939\n",
            "Non-trainable params: 0\n",
            "_________________________________________________________________\n",
            "None\n",
            "Epoch 1/30\n",
            "21/21 [==============================] - 5s 11ms/step - loss: 1.0584 - accuracy: 0.4701 - precision_1: 0.0000e+00 - recall_1: 0.0000e+00\n",
            "Epoch 2/30\n",
            "21/21 [==============================] - 0s 10ms/step - loss: 0.9586 - accuracy: 0.4954 - precision_1: 0.6400 - recall_1: 0.0736\n",
            "Epoch 3/30\n",
            "21/21 [==============================] - 0s 10ms/step - loss: 0.8916 - accuracy: 0.5207 - precision_1: 0.6069 - recall_1: 0.3788\n",
            "Epoch 4/30\n",
            "21/21 [==============================] - 0s 10ms/step - loss: 0.8167 - accuracy: 0.5974 - precision_1: 0.7026 - recall_1: 0.4494\n",
            "Epoch 5/30\n",
            "21/21 [==============================] - 0s 10ms/step - loss: 0.6760 - accuracy: 0.7623 - precision_1: 0.8319 - recall_1: 0.6526\n",
            "Epoch 6/30\n",
            "21/21 [==============================] - 0s 11ms/step - loss: 0.5127 - accuracy: 0.8267 - precision_1: 0.8399 - recall_1: 0.8167\n",
            "Epoch 7/30\n",
            "21/21 [==============================] - 0s 10ms/step - loss: 0.3962 - accuracy: 0.8566 - precision_1: 0.8700 - recall_1: 0.8520\n",
            "Epoch 8/30\n",
            "21/21 [==============================] - 0s 10ms/step - loss: 0.3099 - accuracy: 0.8735 - precision_1: 0.8946 - recall_1: 0.8658\n",
            "Epoch 9/30\n",
            "21/21 [==============================] - 0s 10ms/step - loss: 0.2431 - accuracy: 0.8896 - precision_1: 0.9153 - recall_1: 0.8873\n",
            "Epoch 10/30\n",
            "21/21 [==============================] - 0s 10ms/step - loss: 0.2045 - accuracy: 0.8980 - precision_1: 0.9261 - recall_1: 0.8942\n",
            "Epoch 11/30\n",
            "21/21 [==============================] - 0s 10ms/step - loss: 0.1668 - accuracy: 0.9064 - precision_1: 0.9436 - recall_1: 0.8980\n",
            "Epoch 12/30\n",
            "21/21 [==============================] - 0s 10ms/step - loss: 0.1388 - accuracy: 0.9279 - precision_1: 0.9533 - recall_1: 0.9072\n",
            "Epoch 13/30\n",
            "21/21 [==============================] - 0s 10ms/step - loss: 0.1148 - accuracy: 0.9586 - precision_1: 0.9765 - recall_1: 0.9248\n",
            "Epoch 14/30\n",
            "21/21 [==============================] - 0s 10ms/step - loss: 0.0959 - accuracy: 0.9755 - precision_1: 0.9850 - recall_1: 0.9594\n",
            "Epoch 15/30\n",
            "21/21 [==============================] - 0s 11ms/step - loss: 0.0748 - accuracy: 0.9854 - precision_1: 0.9899 - recall_1: 0.9785\n",
            "Epoch 16/30\n",
            "21/21 [==============================] - 0s 10ms/step - loss: 0.0556 - accuracy: 0.9893 - precision_1: 0.9908 - recall_1: 0.9893\n",
            "Epoch 17/30\n",
            "21/21 [==============================] - 0s 11ms/step - loss: 0.0401 - accuracy: 0.9946 - precision_1: 0.9946 - recall_1: 0.9946\n",
            "Epoch 18/30\n",
            "21/21 [==============================] - 0s 10ms/step - loss: 0.0379 - accuracy: 0.9900 - precision_1: 0.9908 - recall_1: 0.9877\n",
            "Epoch 19/30\n",
            "21/21 [==============================] - 0s 10ms/step - loss: 0.0426 - accuracy: 0.9893 - precision_1: 0.9893 - recall_1: 0.9885\n",
            "Epoch 20/30\n",
            "21/21 [==============================] - 0s 10ms/step - loss: 0.0330 - accuracy: 0.9923 - precision_1: 0.9923 - recall_1: 0.9923\n",
            "Epoch 21/30\n",
            "21/21 [==============================] - 0s 10ms/step - loss: 0.0264 - accuracy: 0.9931 - precision_1: 0.9954 - recall_1: 0.9931\n",
            "Epoch 22/30\n",
            "21/21 [==============================] - 0s 10ms/step - loss: 0.0288 - accuracy: 0.9908 - precision_1: 0.9916 - recall_1: 0.9908\n",
            "Epoch 23/30\n",
            "21/21 [==============================] - 1s 26ms/step - loss: 0.0276 - accuracy: 0.9931 - precision_1: 0.9931 - recall_1: 0.9923\n",
            "Epoch 24/30\n",
            "21/21 [==============================] - 1s 25ms/step - loss: 0.0292 - accuracy: 0.9916 - precision_1: 0.9916 - recall_1: 0.9916\n",
            "Epoch 25/30\n",
            "21/21 [==============================] - 0s 16ms/step - loss: 0.0251 - accuracy: 0.9923 - precision_1: 0.9931 - recall_1: 0.9923\n",
            "Epoch 26/30\n",
            "21/21 [==============================] - 0s 11ms/step - loss: 0.0173 - accuracy: 0.9969 - precision_1: 0.9969 - recall_1: 0.9962\n",
            "Epoch 27/30\n",
            "21/21 [==============================] - 0s 24ms/step - loss: 0.0211 - accuracy: 0.9962 - precision_1: 0.9962 - recall_1: 0.9962\n",
            "Epoch 28/30\n",
            "21/21 [==============================] - 1s 26ms/step - loss: 0.0215 - accuracy: 0.9916 - precision_1: 0.9923 - recall_1: 0.9916\n",
            "Epoch 29/30\n",
            "21/21 [==============================] - 0s 16ms/step - loss: 0.0169 - accuracy: 0.9954 - precision_1: 0.9954 - recall_1: 0.9954\n",
            "Epoch 30/30\n",
            "21/21 [==============================] - 0s 10ms/step - loss: 0.0202 - accuracy: 0.9939 - precision_1: 0.9939 - recall_1: 0.9939\n"
          ]
        }
      ]
    },
    {
      "cell_type": "code",
      "source": [
        "def plot_training_hist(history):\n",
        "    '''Function to plot history for accuracy and loss'''\n",
        "    \n",
        "    fig, ax = plt.subplots(1, 2, figsize=(10,4))\n",
        "    # first plot\n",
        "    ax[0].plot(history.history['accuracy'])\n",
        "    ax[0].plot(history.history['precision_1'])\n",
        "    ax[0].set_title('Model Accuracy')\n",
        "    ax[0].set_xlabel('epoch')\n",
        "    ax[0].set_ylabel('accuracy')\n",
        "    ax[0].legend(['train', 'validation'], loc='best')\n",
        "    # second plot\n",
        "    ax[1].plot(history.history['loss'])\n",
        "    ax[1].plot(history.history['recall_1'])\n",
        "    ax[1].set_title('Model Loss')\n",
        "    ax[1].set_xlabel('epoch')\n",
        "    ax[1].set_ylabel('loss')\n",
        "    ax[1].legend(['train', 'validation'], loc='best')\n",
        "    \n",
        "plot_training_hist(history)"
      ],
      "metadata": {
        "colab": {
          "base_uri": "https://localhost:8080/",
          "height": 295
        },
        "id": "1Kkdn_F9j7dv",
        "outputId": "6a8b3c0f-ad83-476f-eea6-a1ddbe8b1150"
      },
      "execution_count": 44,
      "outputs": [
        {
          "output_type": "display_data",
          "data": {
            "text/plain": [
              "<Figure size 720x288 with 2 Axes>"
            ],
            "image/png": "[encoded data removed]"
          },
          "metadata": {
            "needs_background": "light"
          }
        }
      ]
    },
    {
      "cell_type": "markdown",
      "source": [
        "## Prediction"
      ],
      "metadata": {
        "id": "IuLAcUMpygt2"
      }
    },
    {
      "cell_type": "code",
      "source": [
        "def predict_class(text):\n",
        "    '''Function to predict sentiment class of the passed text'''\n",
        "    \n",
        "    sentiment_classes = ['Negative', 'Neutral', 'Positive']\n",
        "    max_len=7\n",
        "    \n",
        "    # Transforms text to a sequence of integers using a tokenizer object\n",
        "    xt = tokenize.texts_to_sequences(text)\n",
        "    # Pad sequences to the same length\n",
        "    xt = pad_sequences(xt, padding='post', maxlen=max_len)\n",
        "    # Do the prediction using the loaded model\n",
        "    yt = model.predict(xt).argmax(axis=1)\n",
        "    # Print the predicted sentiment\n",
        "    print('The predicted sentiment is', sentiment_classes[yt[0]])"
      ],
      "metadata": {
        "id": "QUOp7BLVti5F"
      },
      "execution_count": 67,
      "outputs": []
    },
    {
      "cell_type": "code",
      "source": [
        "str2='WhoaBiebz GET YOUR SHIT TOGETHER OR I WILL GUY A SAMSUNG GALAXY S5 APPLE'\n",
        "str2=str2.lower()\n",
        "output2=predict_class([str2])"
      ],
      "metadata": {
        "colab": {
          "base_uri": "https://localhost:8080/"
        },
        "id": "T8PrXjA9yxyd",
        "outputId": "e1e3bc0b-2536-41d1-bcc2-5b6c35973c6a"
      },
      "execution_count": 78,
      "outputs": [
        {
          "output_type": "stream",
          "name": "stdout",
          "text": [
            "The predicted sentiment is Negative\n"
          ]
        }
      ]
    },
    {
      "cell_type": "code",
      "source": [
        "output1=predict_class(['This tweet is dangerous'])"
      ],
      "metadata": {
        "colab": {
          "base_uri": "https://localhost:8080/"
        },
        "id": "vbdyhGWNuPyX",
        "outputId": "1046c827-c427-445b-e1f4-7ec535806a68"
      },
      "execution_count": 76,
      "outputs": [
        {
          "output_type": "stream",
          "name": "stdout",
          "text": [
            "The predicted sentiment is Positive\n"
          ]
        }
      ]
    },
    {
      "cell_type": "markdown",
      "source": [
        "## Confusion Matrix"
      ],
      "metadata": {
        "id": "AZBOe9_y7mCe"
      }
    },
    {
      "cell_type": "code",
      "source": [
        "from sklearn.metrics import confusion_matrix\n",
        "import seaborn as sns\n",
        "def plot_confusion_matrix(x_test,y_test):\n",
        "  sentiment_classes = ['Negative', 'Neutral', 'Positive']\n",
        "  y_pred=model.predict(x_test)\n",
        "  cm=confusion_matrix(np.argmax(y_pred,axis=1),np.argmax(np.array(y_test),axis=1))\n",
        "  plt.figure(figsize=(8,6))\n",
        "  sns.heatmap(cm, cmap=plt.cm.Blues, annot=True, fmt='d', \n",
        "                xticklabels=sentiment_classes,\n",
        "                yticklabels=sentiment_classes)\n",
        "  plt.title('Confusion matrix', fontsize=16)\n",
        "  plt.xlabel('Actual label', fontsize=12)\n",
        "  plt.ylabel('Predicted label', fontsize=12)\n",
        "  # # print(np.argmax(y_pred,axis=1))\n",
        "  # print(sentiment[np.argmax(y_pred,axis=1)])\n",
        "plot_confusion_matrix(x_val,y_val)\n"
      ],
      "metadata": {
        "colab": {
          "base_uri": "https://localhost:8080/",
          "height": 409
        },
        "id": "_J5jtNLQym2h",
        "outputId": "5706caf1-373f-413a-9118-7d2192ccf37f"
      },
      "execution_count": 116,
      "outputs": [
        {
          "output_type": "display_data",
          "data": {
            "text/plain": [
              "<Figure size 576x432 with 2 Axes>"
            ],
            "image/png": "[encoded data removed]"
          },
          "metadata": {
            "needs_background": "light"
          }
        }
      ]
    },
    {
      "cell_type": "markdown",
      "source": [
        "Even though we train our model with small number of epochs(30) We can see from both the model that accuracy is pretty much good but it needs to be improved."
      ],
      "metadata": {
        "id": "XoGbNFBi9aJU"
      }
    },
    {
      "cell_type": "markdown",
      "source": [
        "There are many things which we could try further for improving the model performance:\n",
        "\n",
        "(1) Train model for large no of epochs<br>\n",
        "(2) In cnn the hyperparameters could be hypertuned<br>\n",
        "(3) The model is overfitting so regularize it with     suitable dropout value."
      ],
      "metadata": {
        "id": "dSuGPo6H9Bbf"
      }
    }
  ],
  "metadata": {
    "colab": {
      "collapsed_sections": [],
      "name": "LSTMvsCNN.ipynb",
      "provenance": []
    },
    "kernelspec": {
      "display_name": "Python 3 (ipykernel)",
      "language": "python",
      "name": "python3"
    },
    "language_info": {
      "codemirror_mode": {
        "name": "ipython",
        "version": 3
      },
      "file_extension": ".py",
      "mimetype": "text/x-python",
      "name": "python",
      "nbconvert_exporter": "python",
      "pygments_lexer": "ipython3",
      "version": "3.9.7"
    }
  },
  "nbformat": 4,
  "nbformat_minor": 0
}