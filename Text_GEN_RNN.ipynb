{
  "nbformat": 4,
  "nbformat_minor": 0,
  "metadata": {
    "colab": {
      "name": "Text_GEN_RNN.ipynb",
      "provenance": [],
      "collapsed_sections": [],
      "authorship_tag": "ABX9TyNXlTFsZMllcjRFCQ3hrDVu",
      "include_colab_link": true
    },
    "kernelspec": {
      "name": "python3",
      "display_name": "Python 3"
    },
    "language_info": {
      "name": "python"
    },
    "accelerator": "GPU"
  },
  "cells": [
    {
      "cell_type": "markdown",
      "metadata": {
        "id": "view-in-github",
        "colab_type": "text"
      },
      "source": [
        "<a href=\"https://colab.research.google.com/github/DeependraParichha1004/NLP/blob/main/Text_GEN_RNN.ipynb\" target=\"_parent\"><img src=\"https://colab.research.google.com/assets/colab-badge.svg\" alt=\"Open In Colab\"/></a>"
      ]
    },
    {
      "cell_type": "code",
      "execution_count": 1,
      "metadata": {
        "id": "itcnkWViygpN"
      },
      "outputs": [],
      "source": [
        "import tensorflow as tf\n",
        "import os\n",
        "import keras\n",
        "import numpy as np\n",
        "import time"
      ]
    },
    {
      "cell_type": "code",
      "source": [
        "path_to_file=tf.keras.utils.get_file('shakespeare.txt','https://storage.googleapis.com/download.tensorflow.org/data/shakespeare.txt')"
      ],
      "metadata": {
        "colab": {
          "base_uri": "https://localhost:8080/"
        },
        "id": "Sp3J6YgzyyVq",
        "outputId": "f803df64-a8b3-4711-a962-12520677e400"
      },
      "execution_count": 2,
      "outputs": [
        {
          "output_type": "stream",
          "name": "stdout",
          "text": [
            "Downloading data from https://storage.googleapis.com/download.tensorflow.org/data/shakespeare.txt\n",
            "1122304/1115394 [==============================] - 0s 0us/step\n",
            "1130496/1115394 [==============================] - 0s 0us/step\n"
          ]
        }
      ]
    },
    {
      "cell_type": "code",
      "source": [
        "text=open(path_to_file,'rb').read().decode('utf-8')\n"
      ],
      "metadata": {
        "id": "P0Aqxt5-zZha"
      },
      "execution_count": 50,
      "outputs": []
    },
    {
      "cell_type": "code",
      "source": [
        "len(text)"
      ],
      "metadata": {
        "colab": {
          "base_uri": "https://localhost:8080/"
        },
        "id": "zP0dz-h-zlq-",
        "outputId": "d6b2e27c-4758-468e-d2fb-27d1f63a149f"
      },
      "execution_count": 4,
      "outputs": [
        {
          "output_type": "execute_result",
          "data": {
            "text/plain": [
              "1115394"
            ]
          },
          "metadata": {},
          "execution_count": 4
        }
      ]
    },
    {
      "cell_type": "code",
      "source": [
        "text[:250]"
      ],
      "metadata": {
        "colab": {
          "base_uri": "https://localhost:8080/",
          "height": 70
        },
        "id": "YPumBsYwz5kV",
        "outputId": "099a3ed0-8844-46b0-953d-434e5c4757ba"
      },
      "execution_count": 5,
      "outputs": [
        {
          "output_type": "execute_result",
          "data": {
            "text/plain": [
              "'First Citizen:\\nBefore we proceed any further, hear me speak.\\n\\nAll:\\nSpeak, speak.\\n\\nFirst Citizen:\\nYou are all resolved rather to die than to famish?\\n\\nAll:\\nResolved. resolved.\\n\\nFirst Citizen:\\nFirst, you know Caius Marcius is chief enemy to the people.\\n'"
            ],
            "application/vnd.google.colaboratory.intrinsic+json": {
              "type": "string"
            }
          },
          "metadata": {},
          "execution_count": 5
        }
      ]
    },
    {
      "cell_type": "code",
      "source": [
        "vocab=sorted(set(text))\n",
        "vocab"
      ],
      "metadata": {
        "colab": {
          "base_uri": "https://localhost:8080/"
        },
        "id": "kS6zMv_S0Qc1",
        "outputId": "dfb29c0f-35a5-4d60-82d1-188cd8562280"
      },
      "execution_count": 6,
      "outputs": [
        {
          "output_type": "execute_result",
          "data": {
            "text/plain": [
              "['\\n',\n",
              " ' ',\n",
              " '!',\n",
              " '$',\n",
              " '&',\n",
              " \"'\",\n",
              " ',',\n",
              " '-',\n",
              " '.',\n",
              " '3',\n",
              " ':',\n",
              " ';',\n",
              " '?',\n",
              " 'A',\n",
              " 'B',\n",
              " 'C',\n",
              " 'D',\n",
              " 'E',\n",
              " 'F',\n",
              " 'G',\n",
              " 'H',\n",
              " 'I',\n",
              " 'J',\n",
              " 'K',\n",
              " 'L',\n",
              " 'M',\n",
              " 'N',\n",
              " 'O',\n",
              " 'P',\n",
              " 'Q',\n",
              " 'R',\n",
              " 'S',\n",
              " 'T',\n",
              " 'U',\n",
              " 'V',\n",
              " 'W',\n",
              " 'X',\n",
              " 'Y',\n",
              " 'Z',\n",
              " 'a',\n",
              " 'b',\n",
              " 'c',\n",
              " 'd',\n",
              " 'e',\n",
              " 'f',\n",
              " 'g',\n",
              " 'h',\n",
              " 'i',\n",
              " 'j',\n",
              " 'k',\n",
              " 'l',\n",
              " 'm',\n",
              " 'n',\n",
              " 'o',\n",
              " 'p',\n",
              " 'q',\n",
              " 'r',\n",
              " 's',\n",
              " 't',\n",
              " 'u',\n",
              " 'v',\n",
              " 'w',\n",
              " 'x',\n",
              " 'y',\n",
              " 'z']"
            ]
          },
          "metadata": {},
          "execution_count": 6
        }
      ]
    },
    {
      "cell_type": "code",
      "source": [
        "list(vocab)"
      ],
      "metadata": {
        "colab": {
          "base_uri": "https://localhost:8080/"
        },
        "id": "bXPOFt644Bnq",
        "outputId": "c342ab6d-96df-47b7-f9d5-c5faff210922"
      },
      "execution_count": 7,
      "outputs": [
        {
          "output_type": "execute_result",
          "data": {
            "text/plain": [
              "['\\n',\n",
              " ' ',\n",
              " '!',\n",
              " '$',\n",
              " '&',\n",
              " \"'\",\n",
              " ',',\n",
              " '-',\n",
              " '.',\n",
              " '3',\n",
              " ':',\n",
              " ';',\n",
              " '?',\n",
              " 'A',\n",
              " 'B',\n",
              " 'C',\n",
              " 'D',\n",
              " 'E',\n",
              " 'F',\n",
              " 'G',\n",
              " 'H',\n",
              " 'I',\n",
              " 'J',\n",
              " 'K',\n",
              " 'L',\n",
              " 'M',\n",
              " 'N',\n",
              " 'O',\n",
              " 'P',\n",
              " 'Q',\n",
              " 'R',\n",
              " 'S',\n",
              " 'T',\n",
              " 'U',\n",
              " 'V',\n",
              " 'W',\n",
              " 'X',\n",
              " 'Y',\n",
              " 'Z',\n",
              " 'a',\n",
              " 'b',\n",
              " 'c',\n",
              " 'd',\n",
              " 'e',\n",
              " 'f',\n",
              " 'g',\n",
              " 'h',\n",
              " 'i',\n",
              " 'j',\n",
              " 'k',\n",
              " 'l',\n",
              " 'm',\n",
              " 'n',\n",
              " 'o',\n",
              " 'p',\n",
              " 'q',\n",
              " 'r',\n",
              " 's',\n",
              " 't',\n",
              " 'u',\n",
              " 'v',\n",
              " 'w',\n",
              " 'x',\n",
              " 'y',\n",
              " 'z']"
            ]
          },
          "metadata": {},
          "execution_count": 7
        }
      ]
    },
    {
      "cell_type": "code",
      "source": [
        "char_to_ids=tf.keras.layers.StringLookup(vocabulary=list(vocab),mask_token=None)\n",
        "char_to_ids"
      ],
      "metadata": {
        "colab": {
          "base_uri": "https://localhost:8080/"
        },
        "id": "j00Apxv03s8b",
        "outputId": "70938f01-c98f-4dd2-c221-c7c9e3681acf"
      },
      "execution_count": 8,
      "outputs": [
        {
          "output_type": "execute_result",
          "data": {
            "text/plain": [
              "<keras.layers.preprocessing.string_lookup.StringLookup at 0x7f3956f06f50>"
            ]
          },
          "metadata": {},
          "execution_count": 8
        }
      ]
    },
    {
      "cell_type": "code",
      "source": [
        "example_texts = ['abcdefg', 'xyz']\n",
        "\n",
        "chars = tf.strings.unicode_split(example_texts, input_encoding='UTF-8')\n",
        "chars"
      ],
      "metadata": {
        "colab": {
          "base_uri": "https://localhost:8080/"
        },
        "id": "kNt2RRTg4pDr",
        "outputId": "bc4b5ffc-01b9-4022-cc2d-07c106a27909"
      },
      "execution_count": 9,
      "outputs": [
        {
          "output_type": "execute_result",
          "data": {
            "text/plain": [
              "<tf.RaggedTensor [[b'a', b'b', b'c', b'd', b'e', b'f', b'g'], [b'x', b'y', b'z']]>"
            ]
          },
          "metadata": {},
          "execution_count": 9
        }
      ]
    },
    {
      "cell_type": "code",
      "source": [
        "char_to_ids(chars)"
      ],
      "metadata": {
        "colab": {
          "base_uri": "https://localhost:8080/"
        },
        "id": "vOnW9giR4ziz",
        "outputId": "42d394ca-c006-4119-b27f-58222785d38a"
      },
      "execution_count": 10,
      "outputs": [
        {
          "output_type": "execute_result",
          "data": {
            "text/plain": [
              "<tf.RaggedTensor [[40, 41, 42, 43, 44, 45, 46], [63, 64, 65]]>"
            ]
          },
          "metadata": {},
          "execution_count": 10
        }
      ]
    },
    {
      "cell_type": "code",
      "source": [
        "ids =char_to_ids(chars)\n",
        "ids"
      ],
      "metadata": {
        "colab": {
          "base_uri": "https://localhost:8080/"
        },
        "id": "dLjgiNMh42DK",
        "outputId": "2bba650f-c327-4a99-cbcf-3beaeb2bd04d"
      },
      "execution_count": 11,
      "outputs": [
        {
          "output_type": "execute_result",
          "data": {
            "text/plain": [
              "<tf.RaggedTensor [[40, 41, 42, 43, 44, 45, 46], [63, 64, 65]]>"
            ]
          },
          "metadata": {},
          "execution_count": 11
        }
      ]
    },
    {
      "cell_type": "code",
      "source": [
        "ids_to_char=tf.keras.layers.StringLookup(vocabulary=char_to_ids.get_vocabulary(),invert=True,mask_token=None)\n"
      ],
      "metadata": {
        "id": "xuo5SH9J5c57"
      },
      "execution_count": 12,
      "outputs": []
    },
    {
      "cell_type": "code",
      "source": [
        "ids_to_char(ids)"
      ],
      "metadata": {
        "colab": {
          "base_uri": "https://localhost:8080/"
        },
        "id": "xafOQXbU89PR",
        "outputId": "391aca06-7a30-46ee-ce3d-cbf64a14e8ac"
      },
      "execution_count": 13,
      "outputs": [
        {
          "output_type": "execute_result",
          "data": {
            "text/plain": [
              "<tf.RaggedTensor [[b'a', b'b', b'c', b'd', b'e', b'f', b'g'], [b'x', b'y', b'z']]>"
            ]
          },
          "metadata": {},
          "execution_count": 13
        }
      ]
    },
    {
      "cell_type": "code",
      "source": [
        "tf.strings.reduce_join(chars,axis=-1)"
      ],
      "metadata": {
        "colab": {
          "base_uri": "https://localhost:8080/"
        },
        "id": "X3A9eOUC7-H_",
        "outputId": "2dd7f1b4-316d-4a47-93d0-8e2b5544c363"
      },
      "execution_count": 14,
      "outputs": [
        {
          "output_type": "execute_result",
          "data": {
            "text/plain": [
              "<tf.Tensor: shape=(2,), dtype=string, numpy=array([b'abcdefg', b'xyz'], dtype=object)>"
            ]
          },
          "metadata": {},
          "execution_count": 14
        }
      ]
    },
    {
      "cell_type": "code",
      "source": [
        "def ids_to_texts(ids):\n",
        "  return tf.strings.reduce_join(ids_to_char(ids),axis=-1)"
      ],
      "metadata": {
        "id": "v4e2_P4gC3M9"
      },
      "execution_count": 15,
      "outputs": []
    },
    {
      "cell_type": "code",
      "source": [
        "tf.strings.unicode_split(text,'UTF-8')"
      ],
      "metadata": {
        "colab": {
          "base_uri": "https://localhost:8080/"
        },
        "id": "4OMRanNxDj7d",
        "outputId": "c066b01f-3b98-48ae-e2a1-89f128c9e079"
      },
      "execution_count": 17,
      "outputs": [
        {
          "output_type": "execute_result",
          "data": {
            "text/plain": [
              "<tf.Tensor: shape=(1115394,), dtype=string, numpy=array([b'F', b'i', b'r', ..., b'g', b'.', b'\\n'], dtype=object)>"
            ]
          },
          "metadata": {},
          "execution_count": 17
        }
      ]
    },
    {
      "cell_type": "code",
      "source": [
        "type(text)"
      ],
      "metadata": {
        "colab": {
          "base_uri": "https://localhost:8080/"
        },
        "id": "SiOGWu7QKXNz",
        "outputId": "f0ce45ed-5b5e-450c-aaa5-38dc5919fd94"
      },
      "execution_count": 18,
      "outputs": [
        {
          "output_type": "execute_result",
          "data": {
            "text/plain": [
              "str"
            ]
          },
          "metadata": {},
          "execution_count": 18
        }
      ]
    },
    {
      "cell_type": "code",
      "source": [
        "all_ids=char_to_ids(tf.strings.unicode_split(text,'UTF-8'))\n",
        "all_ids"
      ],
      "metadata": {
        "colab": {
          "base_uri": "https://localhost:8080/"
        },
        "id": "5ycGWD3AMd1R",
        "outputId": "11b85687-055e-4def-fc80-d1608de667c7"
      },
      "execution_count": 19,
      "outputs": [
        {
          "output_type": "execute_result",
          "data": {
            "text/plain": [
              "<tf.Tensor: shape=(1115394,), dtype=int64, numpy=array([19, 48, 57, ..., 46,  9,  1])>"
            ]
          },
          "metadata": {},
          "execution_count": 19
        }
      ]
    },
    {
      "cell_type": "code",
      "source": [
        "id_dataset=tf.data.Dataset.from_tensor_slices(all_ids)\n"
      ],
      "metadata": {
        "id": "HsbYae4ZMxpo"
      },
      "execution_count": 20,
      "outputs": []
    },
    {
      "cell_type": "code",
      "source": [
        "for i in id_dataset.take(5):\n",
        "  print(ids_to_char(i).numpy().decode('UTF-8'))"
      ],
      "metadata": {
        "colab": {
          "base_uri": "https://localhost:8080/"
        },
        "id": "q2Ks76S8EiSE",
        "outputId": "684f4989-66d2-433c-e8e7-5072ee670a3f"
      },
      "execution_count": 21,
      "outputs": [
        {
          "output_type": "stream",
          "name": "stdout",
          "text": [
            "F\n",
            "i\n",
            "r\n",
            "s\n",
            "t\n"
          ]
        }
      ]
    },
    {
      "cell_type": "code",
      "source": [
        "seq_length=100\n",
        "sequences=id_dataset.batch(seq_length+1,drop_remainder=True)"
      ],
      "metadata": {
        "id": "yi48tG3FEvpo"
      },
      "execution_count": 22,
      "outputs": []
    },
    {
      "cell_type": "code",
      "source": [
        "sequences"
      ],
      "metadata": {
        "colab": {
          "base_uri": "https://localhost:8080/"
        },
        "id": "G4kMOliJLpYi",
        "outputId": "0b432313-687f-419c-b307-19a9488606ee"
      },
      "execution_count": 23,
      "outputs": [
        {
          "output_type": "execute_result",
          "data": {
            "text/plain": [
              "<BatchDataset element_spec=TensorSpec(shape=(101,), dtype=tf.int64, name=None)>"
            ]
          },
          "metadata": {},
          "execution_count": 23
        }
      ]
    },
    {
      "cell_type": "code",
      "source": [
        "for i in sequences.take(1):\n",
        "  print(ids_to_char(i).numpy())"
      ],
      "metadata": {
        "colab": {
          "base_uri": "https://localhost:8080/"
        },
        "id": "eeSbnr54LqUt",
        "outputId": "ceeecbb9-2dc4-445a-c97f-913b1d62ff59"
      },
      "execution_count": 24,
      "outputs": [
        {
          "output_type": "stream",
          "name": "stdout",
          "text": [
            "[b'F' b'i' b'r' b's' b't' b' ' b'C' b'i' b't' b'i' b'z' b'e' b'n' b':'\n",
            " b'\\n' b'B' b'e' b'f' b'o' b'r' b'e' b' ' b'w' b'e' b' ' b'p' b'r' b'o'\n",
            " b'c' b'e' b'e' b'd' b' ' b'a' b'n' b'y' b' ' b'f' b'u' b'r' b't' b'h'\n",
            " b'e' b'r' b',' b' ' b'h' b'e' b'a' b'r' b' ' b'm' b'e' b' ' b's' b'p'\n",
            " b'e' b'a' b'k' b'.' b'\\n' b'\\n' b'A' b'l' b'l' b':' b'\\n' b'S' b'p' b'e'\n",
            " b'a' b'k' b',' b' ' b's' b'p' b'e' b'a' b'k' b'.' b'\\n' b'\\n' b'F' b'i'\n",
            " b'r' b's' b't' b' ' b'C' b'i' b't' b'i' b'z' b'e' b'n' b':' b'\\n' b'Y'\n",
            " b'o' b'u' b' ']\n"
          ]
        }
      ]
    },
    {
      "cell_type": "code",
      "source": [
        "def ids_to_text(ids):\n",
        "  return tf.strings.reduce_join(ids_to_char(ids),axis=-1)"
      ],
      "metadata": {
        "id": "vEYFnIsyUovv"
      },
      "execution_count": 25,
      "outputs": []
    },
    {
      "cell_type": "code",
      "source": [
        "for seq in sequences.take(5):\n",
        "  print(ids_to_text(seq).numpy())"
      ],
      "metadata": {
        "colab": {
          "base_uri": "https://localhost:8080/"
        },
        "id": "bcXUa8_WLxRN",
        "outputId": "c5eda04a-00e8-4816-9e83-f6814f47dee6"
      },
      "execution_count": 26,
      "outputs": [
        {
          "output_type": "stream",
          "name": "stdout",
          "text": [
            "b'First Citizen:\\nBefore we proceed any further, hear me speak.\\n\\nAll:\\nSpeak, speak.\\n\\nFirst Citizen:\\nYou '\n",
            "b'are all resolved rather to die than to famish?\\n\\nAll:\\nResolved. resolved.\\n\\nFirst Citizen:\\nFirst, you k'\n",
            "b\"now Caius Marcius is chief enemy to the people.\\n\\nAll:\\nWe know't, we know't.\\n\\nFirst Citizen:\\nLet us ki\"\n",
            "b\"ll him, and we'll have corn at our own price.\\nIs't a verdict?\\n\\nAll:\\nNo more talking on't; let it be d\"\n",
            "b'one: away, away!\\n\\nSecond Citizen:\\nOne word, good citizens.\\n\\nFirst Citizen:\\nWe are accounted poor citi'\n"
          ]
        }
      ]
    },
    {
      "cell_type": "code",
      "source": [
        "def split_input_target(seq):\n",
        "  inp_text=seq[:-1]\n",
        "  tar_text=seq[1:]\n",
        "  return inp_text,tar_text"
      ],
      "metadata": {
        "id": "aAgQsDTmPmBD"
      },
      "execution_count": 27,
      "outputs": []
    },
    {
      "cell_type": "code",
      "source": [
        "dataset=sequences.map(split_input_target)"
      ],
      "metadata": {
        "id": "xcsLb2B7NtfG"
      },
      "execution_count": 28,
      "outputs": []
    },
    {
      "cell_type": "code",
      "source": [
        "BATCH_SIZE=64\n",
        "BUFFER_SIZE=10000\n",
        "dataset=(\n",
        "    dataset\n",
        "    .batch(BATCH_SIZE,drop_remainder=True)\n",
        "    .shuffle(BUFFER_SIZE)\n",
        "    .prefetch(tf.data.experimental.AUTOTUNE)\n",
        ")"
      ],
      "metadata": {
        "id": "FOrSKDHzVb0e"
      },
      "execution_count": 29,
      "outputs": []
    },
    {
      "cell_type": "code",
      "source": [
        "dataset"
      ],
      "metadata": {
        "colab": {
          "base_uri": "https://localhost:8080/"
        },
        "id": "GoKlkqaDO26R",
        "outputId": "e0daffd7-259e-4892-f853-c9e26fe28090"
      },
      "execution_count": 30,
      "outputs": [
        {
          "output_type": "execute_result",
          "data": {
            "text/plain": [
              "<PrefetchDataset element_spec=(TensorSpec(shape=(64, 100), dtype=tf.int64, name=None), TensorSpec(shape=(64, 100), dtype=tf.int64, name=None))>"
            ]
          },
          "metadata": {},
          "execution_count": 30
        }
      ]
    },
    {
      "cell_type": "code",
      "source": [
        "def demo(a=3):\n",
        "  print(a)\n",
        "\n",
        "demo(4)"
      ],
      "metadata": {
        "colab": {
          "base_uri": "https://localhost:8080/"
        },
        "id": "itH7FzEHRZa_",
        "outputId": "b6cf5638-152c-4796-cc6a-c548877c7237"
      },
      "execution_count": 31,
      "outputs": [
        {
          "output_type": "stream",
          "name": "stdout",
          "text": [
            "4\n"
          ]
        }
      ]
    },
    {
      "cell_type": "code",
      "source": [
        "class MyModel(tf.keras.Model):\n",
        "  def __init__(self, vocab_size, embedding_dim, rnn_units):\n",
        "    super().__init__(self)\n",
        "    self.embedding = tf.keras.layers.Embedding(vocab_size, embedding_dim)\n",
        "    self.gru = tf.keras.layers.GRU(rnn_units,\n",
        "                                   return_sequences=True,\n",
        "                                   return_state=True)\n",
        "    self.dense = tf.keras.layers.Dense(vocab_size)\n",
        "\n",
        "  def call(self, inputs, states=None, return_state=False, training=False):\n",
        "    x = inputs\n",
        "    x = self.embedding(x, training=training)\n",
        "    if states is None:\n",
        "      states = self.gru.get_initial_state(x)\n",
        "    x, states = self.gru(x, initial_state=states, training=training)\n",
        "    x = self.dense(x, training=training)\n",
        "\n",
        "    if return_state:\n",
        "      return x, states\n",
        "    else:\n",
        "      return x"
      ],
      "metadata": {
        "id": "1sF5ZbeEO35R"
      },
      "execution_count": 32,
      "outputs": []
    },
    {
      "cell_type": "code",
      "source": [
        "vocab_size=len(ids_to_char.get_vocabulary())\n",
        "embedding_dim=256\n",
        "rnn_units=1024\n",
        "model = MyModel(\n",
        "    vocab_size=vocab_size,\n",
        "    embedding_dim=embedding_dim,\n",
        "    rnn_units=rnn_units)"
      ],
      "metadata": {
        "id": "rlaCwbwaT_hW"
      },
      "execution_count": 33,
      "outputs": []
    },
    {
      "cell_type": "code",
      "source": [
        "for inp_example,target_example in dataset.take(1):\n",
        "  pred=model(inp_example)\n",
        "  print(pred[0])"
      ],
      "metadata": {
        "colab": {
          "base_uri": "https://localhost:8080/"
        },
        "id": "9P4mFdtMVQNe",
        "outputId": "92d09f67-22e6-4091-9908-b53ad8097399"
      },
      "execution_count": 34,
      "outputs": [
        {
          "output_type": "stream",
          "name": "stdout",
          "text": [
            "tf.Tensor(\n",
            "[[-0.00093505 -0.00202025  0.00796145 ... -0.00866009  0.00674443\n",
            "  -0.00140973]\n",
            " [-0.00222641 -0.00764429  0.00439529 ...  0.00443462  0.00023536\n",
            "   0.00443082]\n",
            " [-0.00146869 -0.01644453 -0.00621398 ...  0.0067245   0.01040214\n",
            "  -0.00222593]\n",
            " ...\n",
            " [ 0.00229915  0.00894707  0.00927411 ... -0.01441908 -0.00737588\n",
            "  -0.00700362]\n",
            " [-0.00376739  0.00743595 -0.00210765 ... -0.01834096 -0.01290674\n",
            "  -0.01007859]\n",
            " [-0.00461784  0.00117424  0.00483261 ... -0.01777372  0.00195704\n",
            "  -0.00755087]], shape=(100, 66), dtype=float32)\n"
          ]
        }
      ]
    },
    {
      "cell_type": "code",
      "source": [
        "ids_to_text(inp_example[0])"
      ],
      "metadata": {
        "colab": {
          "base_uri": "https://localhost:8080/"
        },
        "id": "SaGOyjv4kwjE",
        "outputId": "508ea013-17ca-4db4-d7ba-48410565b9e0"
      },
      "execution_count": 35,
      "outputs": [
        {
          "output_type": "execute_result",
          "data": {
            "text/plain": [
              "<tf.Tensor: shape=(), dtype=string, numpy=b' too,\\nThat makes himself, but for our honour therein,\\nUnworthy thee,--if ever henceforth thou\\nThese '>"
            ]
          },
          "metadata": {},
          "execution_count": 35
        }
      ]
    },
    {
      "cell_type": "code",
      "source": [
        "model.summary()"
      ],
      "metadata": {
        "colab": {
          "base_uri": "https://localhost:8080/"
        },
        "id": "KL5XDXCuWwVO",
        "outputId": "4bb7b08e-7286-4ff8-8511-ff80be4e9209"
      },
      "execution_count": 36,
      "outputs": [
        {
          "output_type": "stream",
          "name": "stdout",
          "text": [
            "Model: \"my_model\"\n",
            "_________________________________________________________________\n",
            " Layer (type)                Output Shape              Param #   \n",
            "=================================================================\n",
            " embedding (Embedding)       multiple                  16896     \n",
            "                                                                 \n",
            " gru (GRU)                   multiple                  3938304   \n",
            "                                                                 \n",
            " dense (Dense)               multiple                  67650     \n",
            "                                                                 \n",
            "=================================================================\n",
            "Total params: 4,022,850\n",
            "Trainable params: 4,022,850\n",
            "Non-trainable params: 0\n",
            "_________________________________________________________________\n"
          ]
        }
      ]
    },
    {
      "cell_type": "code",
      "source": [
        "tf.argmax(pred[0],axis=1)"
      ],
      "metadata": {
        "colab": {
          "base_uri": "https://localhost:8080/"
        },
        "id": "mkuhutMtkfGJ",
        "outputId": "079af785-bc63-49fd-cf82-bb8bae54477e"
      },
      "execution_count": 37,
      "outputs": [
        {
          "output_type": "execute_result",
          "data": {
            "text/plain": [
              "<tf.Tensor: shape=(100,), dtype=int64, numpy=\n",
              "array([26, 10, 13, 14, 15, 50, 62, 46, 32, 41, 54, 44, 32, 51, 26, 26, 26,\n",
              "       26,  2,  2,  2, 26, 59,  7, 46, 46, 46, 46, 37, 26, 46, 14, 52, 26,\n",
              "       64, 30, 52, 26, 26, 30, 13, 13, 30, 52, 26, 19, 46, 26, 52, 26, 26,\n",
              "       57, 46, 50, 17, 17, 30, 30, 52, 19, 55, 30, 26, 42, 46, 26, 26, 46,\n",
              "       52, 52, 63,  2, 26, 26, 62, 26, 62, 26, 26, 26, 26, 26, 26, 26, 14,\n",
              "       52,  5, 55, 26, 46, 46, 13, 30, 50, 62, 46, 26, 26, 26, 26])>"
            ]
          },
          "metadata": {},
          "execution_count": 37
        }
      ]
    },
    {
      "cell_type": "code",
      "source": [
        "sampled_indices = tf.random.categorical(pred[0], num_samples=1)\n",
        "indices=tf.squeeze(sampled_indices,axis=-1).numpy()\n",
        "indices"
      ],
      "metadata": {
        "colab": {
          "base_uri": "https://localhost:8080/"
        },
        "id": "XEHl7iivhTqg",
        "outputId": "9d3edd15-1935-469b-9ed0-e5373c5fdd4a"
      },
      "execution_count": 38,
      "outputs": [
        {
          "output_type": "execute_result",
          "data": {
            "text/plain": [
              "array([14,  5, 31, 65, 63, 19, 63, 48, 30, 27,  3, 19, 41, 13, 51, 62, 18,\n",
              "       48, 42, 60, 14, 64, 22,  2, 60, 20,  8, 22, 61, 22, 42, 30, 28, 63,\n",
              "        6,  7, 54, 65, 31, 21, 55, 37, 15,  0, 10, 16, 32, 28, 52, 52, 63,\n",
              "       10, 42, 18, 36, 63, 39, 22, 60, 38, 47,  3, 22,  5, 59,  2, 32, 33,\n",
              "       36, 64,  6, 56, 19, 53, 49, 24, 26, 39,  4, 33,  2, 57, 16, 46, 41,\n",
              "       26,  3, 40, 43, 38, 15, 30, 43,  7, 38, 57, 62, 15, 31,  9])"
            ]
          },
          "metadata": {},
          "execution_count": 38
        }
      ]
    },
    {
      "cell_type": "markdown",
      "source": [
        "Note: It is important to sample from this distribution as taking the argmax of the distribution can easily get the model stuck in a loop.\n",
        "\n"
      ],
      "metadata": {
        "id": "-N-H0ZsmxDHS"
      }
    },
    {
      "cell_type": "code",
      "source": [
        "print('The input text is:\\n',ids_to_text(inp_example[0]).numpy().decode('UTF-8'))"
      ],
      "metadata": {
        "colab": {
          "base_uri": "https://localhost:8080/"
        },
        "id": "57mNCXMAxc6N",
        "outputId": "ec8ead84-2f31-447b-b4c9-4a33e5ed7deb"
      },
      "execution_count": 39,
      "outputs": [
        {
          "output_type": "stream",
          "name": "stdout",
          "text": [
            "The input text is:\n",
            "  too,\n",
            "That makes himself, but for our honour therein,\n",
            "Unworthy thee,--if ever henceforth thou\n",
            "These \n"
          ]
        }
      ]
    },
    {
      "cell_type": "code",
      "source": [
        "print('output is:\\n',ids_to_char(indices).numpy())"
      ],
      "metadata": {
        "colab": {
          "base_uri": "https://localhost:8080/"
        },
        "id": "pfymPxjpxpqf",
        "outputId": "80f8a49e-d5ef-4b89-ca72-f6f8561b603a"
      },
      "execution_count": 40,
      "outputs": [
        {
          "output_type": "stream",
          "name": "stdout",
          "text": [
            "output is:\n",
            " [b'A' b'&' b'R' b'z' b'x' b'F' b'x' b'i' b'Q' b'N' b'!' b'F' b'b' b'?'\n",
            " b'l' b'w' b'E' b'i' b'c' b'u' b'A' b'y' b'I' b' ' b'u' b'G' b'-' b'I'\n",
            " b'v' b'I' b'c' b'Q' b'O' b'x' b\"'\" b',' b'o' b'z' b'R' b'H' b'p' b'X'\n",
            " b'B' b'[UNK]' b'3' b'C' b'S' b'O' b'm' b'm' b'x' b'3' b'c' b'E' b'W' b'x'\n",
            " b'Z' b'I' b'u' b'Y' b'h' b'!' b'I' b'&' b't' b' ' b'S' b'T' b'W' b'y'\n",
            " b\"'\" b'q' b'F' b'n' b'j' b'K' b'M' b'Z' b'$' b'T' b' ' b'r' b'C' b'g'\n",
            " b'b' b'M' b'!' b'a' b'd' b'Y' b'B' b'Q' b'd' b',' b'Y' b'r' b'w' b'B'\n",
            " b'R' b'.']\n"
          ]
        }
      ]
    },
    {
      "cell_type": "code",
      "source": [
        "batch_loss=tf.keras.losses.SparseCategoricalCrossentropy(from_logits=True)\n",
        "loss=batch_loss(target_example,pred)\n",
        "loss"
      ],
      "metadata": {
        "colab": {
          "base_uri": "https://localhost:8080/"
        },
        "id": "y_FGwAIMyQC_",
        "outputId": "e2c43880-51bd-4622-c414-13e12ab1470f"
      },
      "execution_count": 41,
      "outputs": [
        {
          "output_type": "execute_result",
          "data": {
            "text/plain": [
              "<tf.Tensor: shape=(), dtype=float32, numpy=4.1886973>"
            ]
          },
          "metadata": {},
          "execution_count": 41
        }
      ]
    },
    {
      "cell_type": "code",
      "source": [
        "tf.exp(loss)"
      ],
      "metadata": {
        "colab": {
          "base_uri": "https://localhost:8080/"
        },
        "id": "RiWdZrJJ0jum",
        "outputId": "95e28bd7-96a1-4089-bfa7-de72b376841e"
      },
      "execution_count": 42,
      "outputs": [
        {
          "output_type": "execute_result",
          "data": {
            "text/plain": [
              "<tf.Tensor: shape=(), dtype=float32, numpy=65.936844>"
            ]
          },
          "metadata": {},
          "execution_count": 42
        }
      ]
    },
    {
      "cell_type": "code",
      "source": [
        "model.compile(optimizer='adam',loss=batch_loss)"
      ],
      "metadata": {
        "id": "YQDylo21340Y"
      },
      "execution_count": 43,
      "outputs": []
    },
    {
      "cell_type": "code",
      "source": [
        "#checkpoint\n",
        "checkpoint_dir='./training_checkpoint'\n",
        "checkpoint_prefix=os.path.join(checkpoint_dir,'ckpt_{epoch}')\n",
        "callback=tf.keras.callbacks.ModelCheckpoint(filepath=checkpoint_prefix,save_weights_only=True)"
      ],
      "metadata": {
        "id": "52UWyQX14scs"
      },
      "execution_count": 44,
      "outputs": []
    },
    {
      "cell_type": "code",
      "source": [
        "history=model.fit(dataset,epochs=10,callbacks=[callback])"
      ],
      "metadata": {
        "id": "vADjBeie68FS",
        "colab": {
          "base_uri": "https://localhost:8080/"
        },
        "outputId": "2af91ab7-dc13-40be-ce19-91b3e70a7c55"
      },
      "execution_count": 45,
      "outputs": [
        {
          "output_type": "stream",
          "name": "stdout",
          "text": [
            "Epoch 1/10\n",
            "172/172 [==============================] - 35s 179ms/step - loss: 2.7617\n",
            "Epoch 2/10\n",
            "172/172 [==============================] - 33s 179ms/step - loss: 2.0779\n",
            "Epoch 3/10\n",
            "172/172 [==============================] - 33s 184ms/step - loss: 1.8249\n",
            "Epoch 4/10\n",
            "172/172 [==============================] - 34s 185ms/step - loss: 1.6501\n",
            "Epoch 5/10\n",
            "172/172 [==============================] - 34s 185ms/step - loss: 1.5336\n",
            "Epoch 6/10\n",
            "172/172 [==============================] - 33s 185ms/step - loss: 1.4545\n",
            "Epoch 7/10\n",
            "172/172 [==============================] - 34s 185ms/step - loss: 1.3951\n",
            "Epoch 8/10\n",
            "172/172 [==============================] - 33s 180ms/step - loss: 1.3450\n",
            "Epoch 9/10\n",
            "172/172 [==============================] - 33s 181ms/step - loss: 1.3025\n",
            "Epoch 10/10\n",
            "172/172 [==============================] - 34s 185ms/step - loss: 1.2613\n"
          ]
        }
      ]
    },
    {
      "cell_type": "code",
      "source": [
        "class OneStep(tf.keras.Model):\n",
        "  def __init__(self, model, chars_from_ids, ids_from_chars, temperature=1.0):\n",
        "    super().__init__()\n",
        "    self.temperature = temperature\n",
        "    self.model = model\n",
        "    self.chars_from_ids = chars_from_ids\n",
        "    self.ids_from_chars = ids_from_chars\n",
        "\n",
        "    # Create a mask to prevent \"[UNK]\" from being generated.\n",
        "    skip_ids = self.ids_from_chars(['[UNK]'])[:, None]\n",
        "    sparse_mask = tf.SparseTensor(\n",
        "        # Put a -inf at each bad index.\n",
        "        values=[-float('inf')]*len(skip_ids),\n",
        "        indices=skip_ids,\n",
        "        # Match the shape to the vocabulary\n",
        "        dense_shape=[len(ids_from_chars.get_vocabulary())])\n",
        "    self.prediction_mask = tf.sparse.to_dense(sparse_mask)\n",
        "\n",
        "  @tf.function\n",
        "  def generate_one_step(self, inputs, states=None):\n",
        "    # Convert strings to token IDs.\n",
        "    input_chars = tf.strings.unicode_split(inputs, 'UTF-8')\n",
        "    input_ids = self.ids_from_chars(input_chars).to_tensor()\n",
        "\n",
        "    # Run the model.\n",
        "    # predicted_logits.shape is [batch, char, next_char_logits]\n",
        "    predicted_logits, states = self.model(inputs=input_ids, states=states,\n",
        "                                          return_state=True)\n",
        "    # Only use the last prediction.\n",
        "    predicted_logits = predicted_logits[:, -1, :]\n",
        "    predicted_logits = predicted_logits/self.temperature\n",
        "    # Apply the prediction mask: prevent \"[UNK]\" from being generated.\n",
        "    predicted_logits = predicted_logits + self.prediction_mask\n",
        "\n",
        "    # Sample the output logits to generate token IDs.\n",
        "    predicted_ids = tf.random.categorical(predicted_logits, num_samples=1)\n",
        "    predicted_ids = tf.squeeze(predicted_ids, axis=-1)\n",
        "\n",
        "    # Convert from token ids to characters\n",
        "    predicted_chars = self.chars_from_ids(predicted_ids)\n",
        "\n",
        "    # Return the characters and model state.\n",
        "    return predicted_chars, states"
      ],
      "metadata": {
        "id": "u_fGevRKYx-_"
      },
      "execution_count": 47,
      "outputs": []
    },
    {
      "cell_type": "code",
      "source": [
        "one_step_model = OneStep(model, ids_to_char,char_to_ids)"
      ],
      "metadata": {
        "id": "aNfVGH9oU-m0"
      },
      "execution_count": 48,
      "outputs": []
    },
    {
      "cell_type": "code",
      "source": [
        "states = None\n",
        "next_char = tf.constant(['ROMEO:'])\n",
        "result = [next_char]\n",
        "\n",
        "for n in range(1000):\n",
        "  next_char, states = one_step_model.generate_one_step(next_char, states=states)\n",
        "  result.append(next_char)\n",
        "\n",
        "result = tf.strings.join(result)\n",
        "end = time.time()\n",
        "print(result[0].numpy().decode('utf-8'), '\\n\\n' + '_'*80)\n"
      ],
      "metadata": {
        "id": "F5k83ERiVtFZ",
        "colab": {
          "base_uri": "https://localhost:8080/"
        },
        "outputId": "85788cb9-7bcb-434b-8dc3-c3aa0a9c8b75"
      },
      "execution_count": 49,
      "outputs": [
        {
          "output_type": "stream",
          "name": "stdout",
          "text": [
            "ROMEO:\n",
            "Which deadly never women art\n",
            "town, till I incent to thus. If, and fill me with\n",
            "Franced traitors and tell thou, madam, my Romeo,\n",
            "Which now to Fally with my us!\n",
            "Where he known the pantsagons of great power?\n",
            "\n",
            "LADY ANNE:\n",
            "Go me, on't, you were none liken.\n",
            "\n",
            "PETRUCHIO:\n",
            "That would she at Persolace hash a passop.\n",
            "\n",
            "BUCKINGHAM:\n",
            "Ratis fires.\n",
            "\n",
            "CATESBY:\n",
            "My lord, I charge thee fair remosses of\n",
            "great herlort with this virtue: mill'dish!\n",
            "There are their nert lightnowness: at the lawful is this\n",
            "thy gracious and morrown myself,\n",
            "My lord and fretted at ensure; therein myself!\n",
            "O, how nothing made the warrages: like a too leave!\n",
            "Preparaintio, get you were told on him;\n",
            "Do not relame thy witchless; and then at thy dross:\n",
            "For I'll thrown away tifles a manderous mourthes;\n",
            "Two, 'tis but which they will somp to see my reiling:\n",
            "Farewell; by my alliam, I'll cold.\n",
            "\n",
            "CAPULET:\n",
            "Brave forbour twenty putticutt, for shemer,s, I can.\n",
            "\n",
            "Tessen:\n",
            "When I shall be odd to old this fook ignorant.\n",
            "\n",
            "NORTHUMBERLAND:\n",
            "Thou not next tell \n",
            "\n",
            "________________________________________________________________________________\n"
          ]
        }
      ]
    },
    {
      "cell_type": "code",
      "source": [
        ""
      ],
      "metadata": {
        "id": "Ic8x_iMhZUr4"
      },
      "execution_count": 49,
      "outputs": []
    }
  ]
}